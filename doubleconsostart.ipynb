{
 "cells": [
  {
   "cell_type": "code",
   "execution_count": 1,
   "id": "c8b1d6df-7d6e-44ea-9eb6-580ee8e17fa8",
   "metadata": {},
   "outputs": [],
   "source": [
    "import pandas as pd"
   ]
  },
  {
   "cell_type": "code",
   "execution_count": 9,
   "id": "fd0da333-e663-4102-8e75-2b708eaac3ef",
   "metadata": {},
   "outputs": [],
   "source": [
    "import re\n",
    "content = open(\"DictionaryPhonetic.txt\").read()\n",
    "content2 = re.findall(\"(.*?)\\n\", content)\n",
    "filter_content = []\n",
    "for j in content2:\n",
    "    filter_content.append(j.split(\"  \"))\n",
    "# dict = re.findall(\"(.*?)\\n\", open(\"DictionaryEnglish.txt\").read())\n",
    "# capsdict = []\n",
    "# for n in dict:\n",
    "#     capsdict.append(n.upper())\n",
    "# def fn():\n",
    "#     for m in filter_content:\n",
    "#         if m[0] in capsdict:\n",
    "#             print(m[0]+\"  \"+m[1])\n"
   ]
  },
  {
   "cell_type": "code",
   "execution_count": 100,
   "id": "61bd2b89-df55-444f-89d9-5c58bcb71eb3",
   "metadata": {},
   "outputs": [],
   "source": [
    "dictlist =  pd.read_csv(\"FreqDict.txt\", delimiter = \" \")\n",
    "dictlist.columns = [\"a\", \"word\", \"b\", \"c\"]"
   ]
  },
  {
   "cell_type": "code",
   "execution_count": 101,
   "id": "487cbdd4-550e-4644-8e63-61f9e2c4c842",
   "metadata": {},
   "outputs": [],
   "source": [
    "dictlist = [i for i in list(dictlist[\"word\"][dictlist[\"a\"] > 100]) if (type(i) == str)]"
   ]
  },
  {
   "cell_type": "code",
   "execution_count": 102,
   "id": "cf0c8d70-e202-4f48-9da9-9399c83a6038",
   "metadata": {},
   "outputs": [
    {
     "data": {
      "text/plain": [
       "str"
      ]
     },
     "execution_count": 102,
     "metadata": {},
     "output_type": "execute_result"
    }
   ],
   "source": [
    "type(\"a\")"
   ]
  },
  {
   "cell_type": "code",
   "execution_count": 103,
   "id": "68544d15-5cad-4eb7-9349-71d19b26de1e",
   "metadata": {},
   "outputs": [],
   "source": [
    "vowels = list(\"aeiou\")\n",
    "consonants = [i for i in list(\"qwertyuiopasdfghjklzxcvbnm\") if i not in vowels]"
   ]
  },
  {
   "cell_type": "code",
   "execution_count": 104,
   "id": "ebf7516e-55b7-4dd1-a988-ea04b0f153f8",
   "metadata": {},
   "outputs": [],
   "source": [
    "doubles = [i for i in dictlist if (len(i) > 3) and (i[0] == i[1]) and (i[0] in consonants)]"
   ]
  },
  {
   "cell_type": "code",
   "execution_count": 105,
   "id": "a65a1497-2c58-46fe-98f0-b3c59f721038",
   "metadata": {},
   "outputs": [
    {
     "data": {
      "text/plain": [
       "['lloyd',\n",
       " 'lloyds',\n",
       " 'mmol/l',\n",
       " 'llanelli',\n",
       " 'bbc1',\n",
       " 'llewellyn',\n",
       " 'bbc2',\n",
       " 'llandudno',\n",
       " 'qq.v.',\n",
       " 'ssds',\n",
       " 'bbcbasic(z80)',\n",
       " 'qq.v',\n",
       " 'zzap']"
      ]
     },
     "execution_count": 105,
     "metadata": {},
     "output_type": "execute_result"
    }
   ],
   "source": [
    "doubles"
   ]
  },
  {
   "cell_type": "code",
   "execution_count": null,
   "id": "cf6c21f1-a2bc-45bb-b2f9-0bf4a6ab3d31",
   "metadata": {},
   "outputs": [],
   "source": []
  }
 ],
 "metadata": {
  "kernelspec": {
   "display_name": "Python 3 (ipykernel)",
   "language": "python",
   "name": "python3"
  },
  "language_info": {
   "codemirror_mode": {
    "name": "ipython",
    "version": 3
   },
   "file_extension": ".py",
   "mimetype": "text/x-python",
   "name": "python",
   "nbconvert_exporter": "python",
   "pygments_lexer": "ipython3",
   "version": "3.7.11"
  }
 },
 "nbformat": 4,
 "nbformat_minor": 5
}
