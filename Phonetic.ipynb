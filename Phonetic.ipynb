{
 "cells": [
  {
   "cell_type": "code",
   "execution_count": 1,
   "id": "51de0ce5-c9e0-46d7-9a6e-c3e130025401",
   "metadata": {},
   "outputs": [],
   "source": [
    "import re\n",
    "from pprint import pprint\n",
    "import numpy as np\n",
    "\n",
    "worddict = {}\n",
    "\n",
    "content = open(r\"RevisedDictionary.txt\").read()\n",
    "content2 = re.findall(\"(.*?)\\n\", content)\n",
    "for j in content2:\n",
    "    a = j.split(\"  \")\n",
    "    worddict[a[0]] = a[1].split(\" \")\n",
    "\n",
    "wordlist = list(worddict.keys())\n",
    "phonelist = list(worddict.values())\n",
    "phonedict = {}\n",
    "\n",
    "for i, phonemes in enumerate(phonelist):\n",
    "    for phonm in phonemes:\n",
    "        if phonm in phonedict:\n",
    "            phonedict[phonm].append(wordlist[i])\n",
    "        else:\n",
    "            phonedict[phonm] = [wordlist[i]]"
   ]
  },
  {
   "cell_type": "code",
   "execution_count": 2,
   "id": "cc324109-3a60-4b2e-a676-81df6b90b1da",
   "metadata": {},
   "outputs": [],
   "source": [
    "def searchfn(phoneme):\n",
    "    return phonedict[phoneme]\n",
    "\n",
    "def get_phoneme(word):\n",
    "    word = word.upper()\n",
    "    if word in worddict:\n",
    "        return worddict[word]\n",
    "    else:\n",
    "        raise Exception(\"Word does not exist.\")"
   ]
  },
  {
   "cell_type": "code",
   "execution_count": 3,
   "id": "f50b460e-a2f9-4aca-b5e8-134bbc6df820",
   "metadata": {},
   "outputs": [],
   "source": [
    "def contains(small, big):\n",
    "    for i in range(len(big)-len(small)+1):\n",
    "        for j in range(len(small)):\n",
    "            if big[i+j] != small[j]:\n",
    "                break\n",
    "        else:\n",
    "            return i, i+len(small)\n",
    "    return False\n",
    "\n",
    "def searchlistfn(phone_set):\n",
    "    wds = None\n",
    "    for phonm in phone_set:\n",
    "        if wds:\n",
    "            wds = wds.intersection(set(phonedict[phonm]))\n",
    "        else:\n",
    "            wds = set(phonedict[phonm])\n",
    "\n",
    "    phones = [worddict[i] for i in wds]\n",
    "    return list(zip(list(wds), phones))\n",
    "\n",
    "def orderedlistfn(phone_set):\n",
    "    wds = []\n",
    "    \n",
    "    for i, phonm in enumerate(phonelist):\n",
    "        idx = contains(phone_set, phonm)\n",
    "        if idx:\n",
    "            wds.append([wordlist[i], phonm, idx])\n",
    "            \n",
    "    return wds\n",
    "\n",
    "def rank_similar(word, phone_set):\n",
    "    word = word.upper()\n",
    "    sim_dict = {}\n",
    "    tot_len = len(phone_set)\n",
    "    set_len = len(phone_set)\n",
    "    rank = 1\n",
    "    copy_set = phone_set[:]\n",
    "    rem_set = None\n",
    "    \n",
    "    while set_len > 1:\n",
    "        if set_len != tot_len:\n",
    "            rem_set = phone_set[set_len:][0]\n",
    "\n",
    "        wds = orderedlistfn(copy_set)\n",
    "        for ord_wd in wds:\n",
    "            if ord_wd[0] not in sim_dict:\n",
    "                sim_dict[ord_wd[0]] = rank\n",
    "\n",
    "                if rem_set in ord_wd[1][ord_wd[2][1]:]:\n",
    "                    sim_dict[ord_wd[0]] = rank - 0.5\n",
    "                \n",
    "        copy_set = copy_set[:-1]\n",
    "        rank += 2\n",
    "        set_len -= 1\n",
    "    \n",
    "    set_len = len(phone_set) - 1\n",
    "    rank = 2\n",
    "    copy_set = phone_set[1:]\n",
    "    \n",
    "    while set_len > 1:\n",
    "        rem_len = tot_len - set_len\n",
    "        rem_set = phone_set[:rem_len][-1]\n",
    "\n",
    "        wds = orderedlistfn(copy_set)\n",
    "        for ord_wd in wds:\n",
    "            if ord_wd[0] not in sim_dict:                \n",
    "                sim_dict[ord_wd[0]] = rank\n",
    "                \n",
    "                if rem_set in ord_wd[1][:ord_wd[2][0]]:\n",
    "                    sim_dict[ord_wd[0]] = rank - 0.5\n",
    "                \n",
    "        copy_set = copy_set[1:]\n",
    "        rank += 2\n",
    "        set_len -= 1\n",
    "    \n",
    "    \n",
    "    for wd in sim_dict.keys():\n",
    "        if word in wd:\n",
    "            sim_dict[wd] = -1\n",
    "    \n",
    "    simwds = sim_dict.keys()\n",
    "    simvals = sim_dict.values()\n",
    "    \n",
    "    simwds = sorted(simwds, key = lambda x: sim_dict[x])\n",
    "    simvals = sorted(simvals)\n",
    "    \n",
    "    return list(zip(simwds, simvals)), sorted(list(set(simvals)))\n",
    "\n",
    "def get_pun_wds(word):\n",
    "    res, vals = rank_similar(word, get_phoneme(word))\n",
    "    \n",
    "    if vals[0] == -1:\n",
    "        vals = vals[1:]\n",
    "    \n",
    "    while len(vals):\n",
    "        finalRes = [i[0] for i in res if i[1] == vals[0]]\n",
    "        print(\"Type \" + str(vals[0]) + \":\")\n",
    "        print(*clean_res(finalRes))\n",
    "        vals = vals[1:]\n",
    "\n",
    "def get_pun_wds_p(word, phoneme):\n",
    "    res, vals = rank_similar(word, phoneme)\n",
    "    \n",
    "    if vals[0] == -1:\n",
    "        vals = vals[1:]\n",
    "    \n",
    "    while len(vals):\n",
    "        finalRes = [i[0] for i in res if i[1] == vals[0]]\n",
    "        print(\"Type \" + str(vals[0]) + \":\")\n",
    "        print(*clean_res(finalRes))\n",
    "        vals = vals[1:]\n",
    "    \n",
    "def clean_res(res):\n",
    "    for i in res:\n",
    "        if (i + \"S\") in res:\n",
    "            res.remove(i + \"S\")\n",
    "        if (i + \"IES\") in res:\n",
    "            res.remove(i + \"IES\")\n",
    "        if (i + \"LY\") in res:\n",
    "            res.remove(i + \"LY\")\n",
    "        if (i + \"NESS\") in res:\n",
    "            res.remove(i + \"NESS\")\n",
    "        if (i + \"ING\") in res:\n",
    "            res.remove(i + \"ING\")\n",
    "        if i[-1] == \"Y\":\n",
    "            if (i[:-1] + \"IES\") in res:\n",
    "                res.remove(i[:-1] + \"IES\")\n",
    "        if (i + \"Y\") in res:\n",
    "            res.remove(i + \"Y\")\n",
    "        if (i + \"ED\") in res:\n",
    "            res.remove(i + \"ED\")\n",
    "        if i[-1] == \"E\":\n",
    "            if (i + \"D\") in res:\n",
    "                res.remove(i + \"D\")\n",
    "            if (i + \"R\") in res:\n",
    "                res.remove(i + \"R\")\n",
    "            if (i + \"RS\") in res:\n",
    "                res.remove(i + \"RS\")\n",
    "            if (i[:-1] + \"ING\") in res:\n",
    "                res.remove(i[:-1] + \"ING\")\n",
    "        if i[-1] == \"H\":\n",
    "            if (i + \"ES\") in res:\n",
    "                res.remove(i + \"ES\")\n",
    "    \n",
    "    if len(res) > 30:\n",
    "        res = np.random.choice(res, 30)\n",
    "    return res"
   ]
  },
  {
   "cell_type": "code",
   "execution_count": 7,
   "id": "7cdc53ec-a059-4944-9736-8943f408f5a0",
   "metadata": {},
   "outputs": [
    {
     "data": {
      "text/plain": [
       "['AO1', 'R', 'AH0', 'N', 'JH']"
      ]
     },
     "execution_count": 7,
     "metadata": {},
     "output_type": "execute_result"
    }
   ],
   "source": [
    "get_phoneme(\"orange\")"
   ]
  },
  {
   "cell_type": "code",
   "execution_count": 12,
   "id": "68b503e4-e42d-4804-8c08-a512d4c49bef",
   "metadata": {},
   "outputs": [
    {
     "data": {
      "text/plain": [
       "['AH1']"
      ]
     },
     "execution_count": 12,
     "metadata": {},
     "output_type": "execute_result"
    }
   ],
   "source": [
    "get_phoneme(\"uh\")"
   ]
  },
  {
   "cell_type": "code",
   "execution_count": 15,
   "id": "7e613693-6b4f-4515-b20f-1996a1a5e99c",
   "metadata": {},
   "outputs": [
    {
     "name": "stdout",
     "output_type": "stream",
     "text": [
      "Type 8:\n",
      "CAUDILLO\n",
      "Type 9:\n",
      "HARMATTAN HARMONIZATION PHARMACEUTICAL PHARMACOLOGICAL PHARMACOLOGIST PHARMACOLOGY UNDERGARMENT\n",
      "Type 10:\n",
      "BILLOW KILOBYTE PILLOW TRILLO\n",
      "Type 11:\n",
      "FIREARM GENDARME PHILHARMONIC\n",
      "Type 11.5:\n",
      "ACYCLOVIR DISLOCATE GIGOLO\n",
      "Type 12:\n",
      "LOGICIAN MARTELLO MARSHMALLOW SOLOS VELODROME MALLOW YELLOWEST FLOTATION NOLO MEATLOAF FELLOWSHIP FLOTILLA LOGICIAN IDEOLOGUE FLOTATION FILO MEATLOAF CELLO APOLLO FLOTILLA SILO YELLOWISH MEGALOMANIAC APOLLO MEGALOMANIAC CYTOMEGALOVIRUS FOLLOWUP SWALLOW FOLLOWER DELO\n",
      "Type 12.5:\n",
      "ARBORETUM ARGUMENTATION ARGUMENTATIVE CARCINOMA CARDIOPULMONARY COMPARTMENTAL COMPARTMENTALIZE DEPARTMENTAL DEPARTMENTALIZE PARLIAMENTARIAN PARLIAMENTARY PARSIMONIOUS\n",
      "Type 13:\n",
      "FLUORSPAR SKYLARK LARYNGEAL EMBARCADERO ARCHANGEL LIFEGUARD IMPARTIALITY OLIGARCH SIDEBAR RAMPARTS CARCINOGENIC ARCHEOLOGY OUTSMART PARTICULARLY RAILCAR BIRTHMARK RHUBARB GUARANI ARCHEOLOGICAL JAGUAR UPMARKET RADAR MARGINALIZATION CARBOHYDRATE MAGYAR LEOTARD FLOWCHART ARBITRATION MARKETEER ARTIODACTYL\n"
     ]
    }
   ],
   "source": [
    "get_pun_wds(\"armadillo\")"
   ]
  },
  {
   "cell_type": "code",
   "execution_count": 17,
   "id": "609d029e-9806-46cf-9d9a-18eecb11dd01",
   "metadata": {},
   "outputs": [],
   "source": [
    "pnm = get_phoneme(\"han\")"
   ]
  },
  {
   "cell_type": "code",
   "execution_count": 18,
   "id": "9c962895-02bd-4eae-88b9-5369a19ed71a",
   "metadata": {},
   "outputs": [
    {
     "data": {
      "text/plain": [
       "['HH', 'AA1', 'N']"
      ]
     },
     "execution_count": 18,
     "metadata": {},
     "output_type": "execute_result"
    }
   ],
   "source": [
    "pnm"
   ]
  },
  {
   "cell_type": "code",
   "execution_count": 21,
   "id": "77464d70-d138-4edc-855c-52ec0e203530",
   "metadata": {},
   "outputs": [],
   "source": [
    "pnm = ['SH', 'ER0', 'IY1', 'HH', 'AA1', 'N']"
   ]
  },
  {
   "cell_type": "code",
   "execution_count": 23,
   "id": "a6510370-d28e-4df4-8a5e-de5071010b20",
   "metadata": {},
   "outputs": [
    {
     "name": "stdout",
     "output_type": "stream",
     "text": [
      "Type 6:\n",
      "HAN HON HONDAS\n",
      "Type 7:\n",
      "SHARIF\n",
      "Type 7.5:\n",
      "HARMONIC HARMONICA HEDONIC HEGEMONIC HISTRIONIC HORIZONTAL HWAN HYALURONIC HYDROPONIC HYPERSONIC HYPERTONIC HYPOCHONDRIA HYPOCHONDRIAC PHILHARMONIC\n",
      "Type 8:\n",
      "CONSCIENCE INFANTE ONBOARD ENTREE PNEUMONIC NONALIGNED INCONTINENT ECONOMY OVONIC CONTROVERSY DEBUTANTE MONISM INCONSPICUOUS SYNCHRONIC GENDARME SONIC MONOPLANE NONPROFITS RESPONSE ANA CONSTITUTE LLANO THEREUPON FROND FONDLING CONTEXT PONCHO ULTRASONIC SWAN CONQUESTS\n",
      "Type 9:\n",
      "FLESHER HARSHER DEPRESSURIZE DEPRESSURIZE SLASHER HABERDASHERY PUSHER FLESHER BRASHER DASHER THRESHER CENSURE FISSURE FISHERMAN FRESHER PRESSURE GAUCHER PUNISHER THRESHER PHOTOFINISHER HARSHER PUBLISHER EXTINGUISHER UNPRESSURIZED FINISHER PHOTOFINISHER CHESHIRE UNSTRUCTURED HABERDASHERY WASHER\n"
     ]
    }
   ],
   "source": [
    "get_pun_wds_p(\"SHRIHAN\", pnm)"
   ]
  },
  {
   "cell_type": "code",
   "execution_count": 309,
   "id": "c8dd6291-8d09-4d71-a36d-13117fd30a84",
   "metadata": {},
   "outputs": [
    {
     "data": {
      "text/plain": [
       "dict_keys(['EY2', 'EY1', 'AA1', 'R', 'D', 'V', 'AA2', 'K', 'S', 'G', 'T', 'IY2', 'AE1', 'B', 'AH0', 'AE2', 'L', 'OW1', 'N', 'IY0', 'Z', 'IH0', 'NG', 'M', 'SH', 'ZH', 'Y', 'IY1', 'AE0', 'AH1', 'AH2', 'ER0', 'EH1', 'EH2', 'TH', 'HH', 'AO1', 'AY1', 'IH1', 'JH', 'EH0', 'UW1', 'AO0', 'OW0', 'IH2', 'AO2', 'F', 'AW1', 'P', 'UW2', 'CH', 'ER1', 'AA0', 'DH', 'UW0', 'EY0', 'AY2', 'OW2', 'UH1', 'W', 'OY2', 'OY1', 'ER2', 'UH2', 'AY0', 'AW2', 'UH0', 'OY0', 'AW0'])"
      ]
     },
     "execution_count": 309,
     "metadata": {},
     "output_type": "execute_result"
    }
   ],
   "source": [
    "phonedict.keys()"
   ]
  },
  {
   "cell_type": "code",
   "execution_count": 102,
   "id": "a5b0dcac-6432-4df5-82a7-899610747d4f",
   "metadata": {},
   "outputs": [
    {
     "data": {
      "text/plain": [
       "['F', 'AY1', 'ER0']"
      ]
     },
     "execution_count": 102,
     "metadata": {},
     "output_type": "execute_result"
    }
   ],
   "source": [
    "get_phoneme(\"fire\")"
   ]
  },
  {
   "cell_type": "code",
   "execution_count": 299,
   "id": "3dbff664-1122-456e-a91a-a1745a3e124f",
   "metadata": {},
   "outputs": [
    {
     "ename": "AttributeError",
     "evalue": "'str' object has no attribute 'remove'",
     "output_type": "error",
     "traceback": [
      "\u001b[0;31m---------------------------------------------------------------------------\u001b[0m",
      "\u001b[0;31mAttributeError\u001b[0m                            Traceback (most recent call last)",
      "\u001b[0;32m/var/folders/h0/qsvw48hn5m5bx13015zw15dc0000gn/T/ipykernel_30518/3090259281.py\u001b[0m in \u001b[0;36m<module>\u001b[0;34m\u001b[0m\n\u001b[1;32m      2\u001b[0m \u001b[0mres\u001b[0m \u001b[0;34m=\u001b[0m \u001b[0;34m\"RESERVES\"\u001b[0m\u001b[0;34m\u001b[0m\u001b[0;34m\u001b[0m\u001b[0m\n\u001b[1;32m      3\u001b[0m \u001b[0;32mif\u001b[0m \u001b[0;34m(\u001b[0m\u001b[0mi\u001b[0m \u001b[0;34m+\u001b[0m \u001b[0;34m\"S\"\u001b[0m\u001b[0;34m)\u001b[0m \u001b[0;32min\u001b[0m \u001b[0mres\u001b[0m\u001b[0;34m:\u001b[0m\u001b[0;34m\u001b[0m\u001b[0;34m\u001b[0m\u001b[0m\n\u001b[0;32m----> 4\u001b[0;31m     \u001b[0mres\u001b[0m\u001b[0;34m.\u001b[0m\u001b[0mremove\u001b[0m\u001b[0;34m(\u001b[0m\u001b[0mi\u001b[0m \u001b[0;34m+\u001b[0m \u001b[0;34m\"S\"\u001b[0m\u001b[0;34m)\u001b[0m\u001b[0;34m\u001b[0m\u001b[0;34m\u001b[0m\u001b[0m\n\u001b[0m\u001b[1;32m      5\u001b[0m \u001b[0;32mif\u001b[0m \u001b[0;34m(\u001b[0m\u001b[0mi\u001b[0m \u001b[0;34m+\u001b[0m \u001b[0;34m\"LY\"\u001b[0m\u001b[0;34m)\u001b[0m \u001b[0;32min\u001b[0m \u001b[0mres\u001b[0m\u001b[0;34m:\u001b[0m\u001b[0;34m\u001b[0m\u001b[0;34m\u001b[0m\u001b[0m\n\u001b[1;32m      6\u001b[0m     \u001b[0mres\u001b[0m\u001b[0;34m.\u001b[0m\u001b[0mremove\u001b[0m\u001b[0;34m(\u001b[0m\u001b[0mi\u001b[0m \u001b[0;34m+\u001b[0m \u001b[0;34m\"LY\"\u001b[0m\u001b[0;34m)\u001b[0m\u001b[0;34m\u001b[0m\u001b[0;34m\u001b[0m\u001b[0m\n",
      "\u001b[0;31mAttributeError\u001b[0m: 'str' object has no attribute 'remove'"
     ]
    }
   ],
   "source": [
    "i = \"RESERVE\"\n",
    "res = \"RESERVES\"\n",
    "if (i + \"S\") in res:\n",
    "    res.remove(i + \"S\")\n",
    "if (i + \"LY\") in res:\n",
    "    res.remove(i + \"LY\")\n",
    "if (i + \"NESS\") in res:\n",
    "    res.remove(i + \"NESS\")\n",
    "if i[-1] == \"Y\":\n",
    "    if (i[:-1] + \"IES\") in res:\n",
    "        res.remove(i[:-1] + \"IES\")\n",
    "if (i + \"Y\") in res:\n",
    "    res.remove(i + \"Y\")\n",
    "if (i + \"ED\") in res:\n",
    "    res.remove(i + \"ED\")\n",
    "if i[-1] == \"E\":\n",
    "    if (i + \"D\") in res:\n",
    "        res.remove(i + \"D\")\n",
    "    if (i + \"R\") in res:\n",
    "        res.remove(i + \"R\")\n",
    "    if (i + \"RS\") in res:\n",
    "        res.remove(i + \"RS\")\n",
    "    if (i + \"ING\") in res:\n",
    "        res.remove(i + \"ING\")"
   ]
  },
  {
   "cell_type": "code",
   "execution_count": null,
   "id": "9ae9a498-948b-447d-88fb-3a93a7a92f48",
   "metadata": {},
   "outputs": [],
   "source": []
  }
 ],
 "metadata": {
  "kernelspec": {
   "display_name": "Python 3 (ipykernel)",
   "language": "python",
   "name": "python3"
  },
  "language_info": {
   "codemirror_mode": {
    "name": "ipython",
    "version": 3
   },
   "file_extension": ".py",
   "mimetype": "text/x-python",
   "name": "python",
   "nbconvert_exporter": "python",
   "pygments_lexer": "ipython3",
   "version": "3.7.11"
  }
 },
 "nbformat": 4,
 "nbformat_minor": 5
}
