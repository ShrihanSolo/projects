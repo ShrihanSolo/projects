{
 "cells": [
  {
   "cell_type": "code",
   "execution_count": 108,
   "id": "62ce7236-a315-4a81-beae-88aea48f75d9",
   "metadata": {},
   "outputs": [],
   "source": [
    "import numpy as np\n",
    "import matplotlib.pyplot as plt\n",
    "\n",
    "def ellip_mask(x_center, y_center, a, b, num_pix, theta):\n",
    "    \n",
    "    nx = num_pix   # number of pixels in x-dir\n",
    "    ny = num_pix   # number of pixels in y-dir\n",
    "\n",
    "    # set up a coordinate system\n",
    "    x = np.linspace(-num_pix / 2, num_pix / 2, nx)\n",
    "    y = np.linspace(-num_pix / 2, num_pix / 2, ny)\n",
    "\n",
    "    # Setup arrays which just list the x and y coordinates\n",
    "    x_grid, y_grid = np.meshgrid(x, y)\n",
    "    the = np.pi / 4\n",
    "    xgrid = (x_grid - x_center) * np.cos(the) + (y_grid - y_center) * np.sin(the)\n",
    "    ygrid = -(x_grid - x_center) * np.sin(the) + (y_grid - y_center) * np.cos(the) \n",
    "\n",
    "    # Calculate the ellipse values all at once\n",
    "    ellipse = (xgrid) **2 / a**2 + (ygrid) **2 / b**2\n",
    "\n",
    "    # Create an array of int32 zeros\n",
    "    grey = np.ones((nx,ny), dtype=np.int32)\n",
    "\n",
    "    # Put 1's where ellipse is less than 1.0\n",
    "    # Note ellipse <1.0 produces a boolean array that then indexes grey\n",
    "    grey[ellipse <= 1.0] = 0\n",
    "\n",
    "    return grey"
   ]
  },
  {
   "cell_type": "code",
   "execution_count": 109,
   "id": "6712f963-d452-4458-be78-55bcdde19d05",
   "metadata": {},
   "outputs": [
    {
     "data": {
      "text/plain": [
       "<matplotlib.colorbar.Colorbar at 0x7ff5b8b7a050>"
      ]
     },
     "execution_count": 109,
     "metadata": {},
     "output_type": "execute_result"
    },
    {
     "data": {
      "image/png": "[encoded data removed]",
      "text/plain": [
       "<Figure size 432x288 with 2 Axes>"
      ]
     },
     "metadata": {
      "needs_background": "light"
     },
     "output_type": "display_data"
    }
   ],
   "source": [
    "plt.imshow(ellip_mask(30, -30, 30, 50, 200, np.radians(45)), interpolation = 'none')\n",
    "plt.colorbar()"
   ]
  },
  {
   "cell_type": "code",
   "execution_count": null,
   "id": "6e5a871b-2219-44a5-9653-a88c37745f72",
   "metadata": {},
   "outputs": [],
   "source": [
    "from astropy.io import fits\n",
    "\n",
    "# Initialize data/priors\n",
    "kernel = fits.getdata('/global/homes/s/shrihan/python_repo/hst_modeling/data/f140w00.fits').astype(np.float32)\n",
    "fits_img = fits.getdata('/global/homes/s/shrihan/python_repo/hst_modeling/data/final_57_drz.fits')\n",
    "observed_img = fits_img[1017:1137, 1170:1290]\n",
    "\n",
    "bkg_est = fits_img[450:550, 1500:1600]\n",
    "bg_rms = bkg_est.flatten().std()\n",
    "\n",
    "prior = initialize_default_prior(theta_E = 2.8)\n",
    "mask_img = ellip_mask(0, 0, a = 10, b = 10, num_pix = 120, theta = jnp.radians(45))\n",
    "\n",
    "# Initialize \n",
    "sim_config = SimulatorConfig(delta_pix=0.065, num_pix=120, supersample=2, kernel=kernel)\n",
    "phys_model = PhysicalModel([epl.EPL(50), shear.Shear()], \n",
    "                           [sersic.SersicEllipse(use_lstsq=False)])\n",
    "\n",
    "#observed_img = np.pad(np.load('/global/homes/s/shrihan/python_repo/gigalens/src/gigalens/assets/demo.npy'), ((30,30), (30,30)), mode=random_pad)\n",
    "# observed_img[23:37, 23:40] = 0\n",
    "\n",
    "lens_sim = LensSimulator(phys_model, sim_config, bs=1)\n",
    "prob_model = ForwardProbModel(prior, observed_img, background_rms=bg_rms, exp_time=1200, mask_image = mask_img)\n",
    "model_seq = ModellingSequence(phys_model, prob_model, sim_config)"
   ]
  },
  {
   "cell_type": "code",
   "execution_count": null,
   "id": "637f911a-372f-46c5-ae70-d230ba672f4a",
   "metadata": {},
   "outputs": [],
   "source": []
  }
 ],
 "metadata": {
  "kernelspec": {
   "display_name": "Python 3 (ipykernel)",
   "language": "python",
   "name": "python3"
  },
  "language_info": {
   "codemirror_mode": {
    "name": "ipython",
    "version": 3
   },
   "file_extension": ".py",
   "mimetype": "text/x-python",
   "name": "python",
   "nbconvert_exporter": "python",
   "pygments_lexer": "ipython3",
   "version": "3.7.11"
  }
 },
 "nbformat": 4,
 "nbformat_minor": 5
}
