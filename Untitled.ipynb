{
 "cells": [
  {
   "cell_type": "code",
   "execution_count": 7,
   "metadata": {},
   "outputs": [],
   "source": [
    "import re\n",
    "from pprint import pprint\n",
    "import numpy as np\n",
    "\n",
    "worddict = {}\n",
    "\n",
    "content = open(r\"RevisedDictionary.txt\").read()\n",
    "content2 = re.findall(\"(.*?)\\n\", content)\n",
    "for j in content2:\n",
    "    a = j.split(\"  \")\n",
    "    worddict[a[0]] = a[1].split(\" \")"
   ]
  },
  {
   "cell_type": "code",
   "execution_count": 25,
   "metadata": {},
   "outputs": [],
   "source": [
    "def guess(word, guess):\n",
    "    if guess.upper() == 'REVEAL':\n",
    "        print(word)\n",
    "        return None\n",
    "    if guess.upper() not in worddict.keys():\n",
    "        return None\n",
    "    l = [0, 0, 0, 0, 0]\n",
    "    letter_count = dict()\n",
    "    for letter in word:\n",
    "        if letter in letter_count:\n",
    "            letter_count[letter] += 1\n",
    "        else:\n",
    "            letter_count[letter] = 1\n",
    "    for i in range(5):\n",
    "        if word[i] == guess[i]:\n",
    "            letter_count[guess[i]] -= 1\n",
    "            l[i] = 2\n",
    "    for i in range(5):\n",
    "        if guess[i] in word and guess[i] != word[i]:\n",
    "            if letter_count[guess[i]] == 0:\n",
    "                continue\n",
    "            letter_count[guess[i]] -= 1\n",
    "            l[i] = 1\n",
    "    return l"
   ]
  },
  {
   "cell_type": "code",
   "execution_count": 26,
   "metadata": {},
   "outputs": [],
   "source": [
    "def game(word):\n",
    "    game = True\n",
    "    count = 0\n",
    "    while game:\n",
    "        l = None\n",
    "        while not l:\n",
    "            g = input(\"Guess:\")\n",
    "            l = guess(word, g)\n",
    "        print(l)\n",
    "        count += 1\n",
    "        if l == [2, 2, 2, 2, 2]:\n",
    "            game = False\n",
    "            print(\"You Win!\")\n",
    "        if count == 6:\n",
    "            game = False\n",
    "            print(\"You Lose!\")\n",
    "            print(\"Word is \" + word)\n",
    "        \n",
    "    "
   ]
  },
  {
   "cell_type": "code",
   "execution_count": 14,
   "metadata": {},
   "outputs": [],
   "source": [
    "k = []\n",
    "for i in worddict.keys():\n",
    "    if len(i) == 5:\n",
    "        k.append(i)"
   ]
  },
  {
   "cell_type": "code",
   "execution_count": 29,
   "metadata": {},
   "outputs": [
    {
     "name": "stdin",
     "output_type": "stream",
     "text": [
      "Guess: rates\n"
     ]
    },
    {
     "name": "stdout",
     "output_type": "stream",
     "text": [
      "[0, 0, 1, 0, 0]\n"
     ]
    },
    {
     "name": "stdin",
     "output_type": "stream",
     "text": [
      "Guess: bunch\n"
     ]
    },
    {
     "name": "stdout",
     "output_type": "stream",
     "text": [
      "[0, 0, 0, 0, 2]\n"
     ]
    },
    {
     "name": "stdin",
     "output_type": "stream",
     "text": [
      "Guess: often\n"
     ]
    },
    {
     "name": "stdout",
     "output_type": "stream",
     "text": [
      "[0, 1, 1, 0, 0]\n"
     ]
    },
    {
     "name": "stdin",
     "output_type": "stream",
     "text": [
      "Guess: fifth\n"
     ]
    },
    {
     "name": "stdout",
     "output_type": "stream",
     "text": [
      "[2, 2, 2, 2, 2]\n",
      "You Win!\n"
     ]
    }
   ],
   "source": [
    "game(np.random.choice(k).lower())"
   ]
  },
  {
   "cell_type": "code",
   "execution_count": 36,
   "metadata": {},
   "outputs": [
    {
     "name": "stdout",
     "output_type": "stream",
     "text": [
      "DUCHY\n"
     ]
    }
   ],
   "source": [
    "for i in k:\n",
    "    if 'UCHY' in i:\n",
    "        print(i)"
   ]
  },
  {
   "cell_type": "code",
   "execution_count": 41,
   "metadata": {},
   "outputs": [],
   "source": [
    "def valids(ylets, glets):\n",
    "    for word in k:\n",
    "        res = [0, 0, 0, 0, 0]\n",
    "        valid = True\n",
    "        for i in range(5):\n",
    "            if glets[i] == 0:\n",
    "                res[i] += 1\n",
    "                continue\n",
    "            if word[i] == glets[i]:\n",
    "                res[i] += 1\n",
    "        for i in ylets:\n",
    "            if i not in word:\n",
    "                valid = False\n",
    "        if valid and (res == [1, 1, 1, 1, 1]):\n",
    "            print(word)"
   ]
  },
  {
   "cell_type": "code",
   "execution_count": 42,
   "metadata": {},
   "outputs": [
    {
     "name": "stdout",
     "output_type": "stream",
     "text": [
      "AFTER\n",
      "ALERT\n",
      "ALTER\n",
      "APTER\n",
      "ASTER\n",
      "AVERT\n",
      "CARTE\n",
      "CATER\n",
      "CRATE\n",
      "EARTH\n",
      "EATER\n",
      "EXTRA\n",
      "FRATE\n",
      "GRATE\n",
      "GREAT\n",
      "HATER\n",
      "HEART\n",
      "IRATE\n",
      "LATER\n",
      "MATER\n",
      "PATER\n",
      "PEART\n",
      "RATED\n",
      "RATER\n",
      "RATES\n",
      "RATHE\n",
      "REACT\n",
      "STARE\n",
      "STEAR\n",
      "TABER\n",
      "TAKER\n",
      "TAMER\n",
      "TAPER\n",
      "TASER\n",
      "TATER\n",
      "TAXER\n",
      "TEARS\n",
      "TEARY\n",
      "TERRA\n",
      "TETRA\n",
      "TRACE\n",
      "TRADE\n",
      "TREAD\n",
      "TREAT\n",
      "WATER\n"
     ]
    }
   ],
   "source": [
    "valids(['A', 'R', 'T', 'E'], [0, 0, 0, 0, 0])"
   ]
  },
  {
   "cell_type": "code",
   "execution_count": null,
   "metadata": {},
   "outputs": [],
   "source": []
  }
 ],
 "metadata": {
  "kernelspec": {
   "display_name": "Python 3 (ipykernel)",
   "language": "python",
   "name": "python3"
  },
  "language_info": {
   "codemirror_mode": {
    "name": "ipython",
    "version": 3
   },
   "file_extension": ".py",
   "mimetype": "text/x-python",
   "name": "python",
   "nbconvert_exporter": "python",
   "pygments_lexer": "ipython3",
   "version": "3.7.11"
  }
 },
 "nbformat": 4,
 "nbformat_minor": 4
}
