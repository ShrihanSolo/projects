{
 "cells": [
  {
   "cell_type": "markdown",
   "metadata": {},
   "source": [
    "### Model A: Assume formula for r > Rc applies everywhere"
   ]
  },
  {
   "cell_type": "code",
   "execution_count": 18,
   "metadata": {},
   "outputs": [],
   "source": [
    "import numpy as np\n",
    "from scipy.integrate import odeint\n",
    "import matplotlib.pyplot as plt\n",
    "import astropy.units as u\n",
    "import astropy.constants as c\n",
    "\n",
    "\n",
    "# Earth core radius, Earth core density\n",
    "Rc = 3485 * u.km\n",
    "rho_c = 13 * u.g / u.cm**3\n",
    "\n",
    "# Earth radius, magma density\n",
    "Re = 1 * u.R_earth\n",
    "rho_e = 4.7 * u.g / u.cm**3\n",
    "\n",
    "# Earth avg density\n",
    "rho_avg = 5.513 * u.g / u.cm**3\n",
    "\n",
    "# Set the parameters\n",
    "kavg = (4 / 3) * np.pi * rho_avg * c.G # You can adjust the value of k\n",
    "kc = (4 / 3) * np.pi * rho_c * c.G # You can adjust the value of k\n",
    "ke = (4 / 3) * np.pi * rho_e * c.G # You can adjust the value of k\n",
    "c = (4 / 3) * np.pi * (rho_e - rho_c) * c.G * (Rc ** 3)  # You can adjust the value of c"
   ]
  },
  {
   "cell_type": "code",
   "execution_count": 19,
   "metadata": {},
   "outputs": [],
   "source": [
    "# Define the ODE as a system of first-order ODEs\n",
    "def model(y, t, k, c):\n",
    "    \"\"\"\n",
    "    y[0] = r\n",
    "    y[1] = dr/dt = v\n",
    "    \"\"\"\n",
    "    dydt = [y[1], -k * y[0] + c / y[0]**2]\n",
    "    return dydt\n",
    "\n",
    "# Set the initial conditions\n",
    "r0 = 1.0 * Re  # Initial value of r\n",
    "v0 = 0.0 * u.m / u.s # Initial value of dr/dt\n",
    "initial_conditions = [r0.to(u.R_earth).value, v0.to(u.R_earth / u.hr).value]"
   ]
  },
  {
   "cell_type": "code",
   "execution_count": 20,
   "metadata": {},
   "outputs": [
    {
     "name": "stdout",
     "output_type": "stream",
     "text": [
      "Peak at t = 0.00 hours\n",
      "Peak at t = 0.20 hours\n"
     ]
    },
    {
     "name": "stderr",
     "output_type": "stream",
     "text": [
      "/Users/shri/opt/miniconda3/envs/astroconda/lib/python3.7/site-packages/scipy/integrate/odepack.py:247: ODEintWarning: Excess work done on this call (perhaps wrong Dfun type). Run with full_output = 1 to get quantitative information.\n",
      "  warnings.warn(warning_msg, ODEintWarning)\n"
     ]
    },
    {
     "data": {
      "image/png": "[encoded data removed]",
      "text/plain": [
       "<Figure size 432x288 with 1 Axes>"
      ]
     },
     "metadata": {
      "needs_background": "light"
     },
     "output_type": "display_data"
    }
   ],
   "source": [
    "# Set the time grid\n",
    "t = np.linspace(0, 3, 1000)  # Adjust the time range and number of points as needed\n",
    "\n",
    "# Solve the ODE using odeint\n",
    "solution = odeint(model, initial_conditions, t, args=(kc.to(u.hr ** -2).value, c.decompose().to(u.R_earth**3 / u.hr**2).value))\n",
    "\n",
    "# Extract the solution\n",
    "r_values = solution[:, 0]\n",
    "\n",
    "# Find the indices of the peaks\n",
    "peak_indices = np.where(np.diff(np.sign(np.diff(r_values))))[0] + 1\n",
    "peak_indices = list(peak_indices)\n",
    "peak_indices.insert(0, 0)\n",
    "\n",
    "for i in range(len(peak_indices)):\n",
    "    print('Peak at t = {:.2f} hours'.format(t[peak_indices][i]))\n",
    "    plt.axvline(t[peak_indices][i], color='r', linestyle='--')\n",
    "\n",
    "# Plot the results\n",
    "plt.plot(t, r_values, label='r(t)')\n",
    "plt.title('Solution to the Differential Equation')\n",
    "plt.xlabel('Time (t)')\n",
    "plt.ylabel('r(t)')\n",
    "plt.legend()\n",
    "plt.show()"
   ]
  },
  {
   "cell_type": "code",
   "execution_count": 24,
   "metadata": {},
   "outputs": [
    {
     "name": "stderr",
     "output_type": "stream",
     "text": [
      "/Users/shri/opt/miniconda3/envs/astroconda/lib/python3.7/site-packages/astropy/units/quantity.py:486: RuntimeWarning: divide by zero encountered in true_divide\n",
      "  result = super().__array_ufunc__(function, method, *arrays, **kwargs)\n"
     ]
    }
   ],
   "source": [
    "r = np.linspace(0,  1, 1000) * u.R_earth\n",
    "gR = - ke * r + c / (r ** 2)\n",
    "gRorig = - kavg * r"
   ]
  },
  {
   "cell_type": "code",
   "execution_count": 25,
   "metadata": {},
   "outputs": [
    {
     "data": {
      "text/latex": [
       "$[-\\infty,~-2467572.6,~-616893.16,~\\dots,~-10.490515,~-10.493574,~-10.496649] \\; \\mathrm{\\frac{m}{s^{2}}}$"
      ],
      "text/plain": [
       "<Quantity [           -inf, -2.46757258e+06, -6.16893159e+05,\n",
       "           -2.74174754e+05, -1.54223318e+05, -9.87029430e+04,\n",
       "           -6.85437307e+04, -5.03586801e+04, -3.85558857e+04,\n",
       "           -3.04639312e+04, -2.46758060e+04, -2.03932501e+04,\n",
       "           -1.71360170e+04, -1.46011256e+04, -1.25897684e+04,\n",
       "           -1.09671097e+04, -9.63908387e+03, -8.53844994e+03,\n",
       "           -7.61610931e+03, -6.83553370e+03, -6.16909207e+03,\n",
       "           -5.59557133e+03, -5.09846715e+03, -4.66478317e+03,\n",
       "           -4.28417293e+03, -3.94831692e+03, -3.65046412e+03,\n",
       "           -3.38509008e+03, -3.14763890e+03, -2.93432636e+03,\n",
       "           -2.74198827e+03, -2.56796239e+03, -2.40999587e+03,\n",
       "           -2.26617192e+03, -2.13485144e+03, -2.01462608e+03,\n",
       "           -1.90428034e+03, -1.80276072e+03, -1.70915049e+03,\n",
       "           -1.62264894e+03, -1.54255414e+03, -1.46824875e+03,\n",
       "           -1.39918802e+03, -1.33488977e+03, -1.27492602e+03,\n",
       "           -1.21891580e+03, -1.16651909e+03, -1.11743164e+03,\n",
       "           -1.07138058e+03, -1.02812059e+03, -9.87430637e+02,\n",
       "           -9.49111129e+02, -9.12981494e+02, -8.78878027e+02,\n",
       "           -8.46652040e+02, -8.16168239e+02, -7.87303300e+02,\n",
       "           -7.59944621e+02, -7.33989222e+02, -7.09342778e+02,\n",
       "           -6.85918755e+02, -6.63637657e+02, -6.42426343e+02,\n",
       "           -6.22217433e+02, -6.02948769e+02, -5.84562936e+02,\n",
       "           -5.67006838e+02, -5.50231310e+02, -5.34190775e+02,\n",
       "           -5.18842934e+02, -5.04148491e+02, -4.90070893e+02,\n",
       "           -4.76576111e+02, -4.63632430e+02, -4.51210263e+02,\n",
       "           -4.39281981e+02, -4.27821762e+02, -4.16805451e+02,\n",
       "           -4.06210429e+02, -3.96015501e+02, -3.86200788e+02,\n",
       "           -3.76747629e+02, -3.67638497e+02, -3.58856911e+02,\n",
       "           -3.50387368e+02, -3.42215270e+02, -3.34326863e+02,\n",
       "           -3.26709179e+02, -3.19349983e+02, -3.12237722e+02,\n",
       "           -3.05361484e+02, -2.98710950e+02, -2.92276361e+02,\n",
       "           -2.86048480e+02, -2.80018556e+02, -2.74178299e+02,\n",
       "           -2.68519848e+02, -2.63035744e+02, -2.57718907e+02,\n",
       "           -2.52562613e+02, -2.47560474e+02, -2.42706413e+02,\n",
       "           -2.37994653e+02, -2.33419694e+02, -2.28976301e+02,\n",
       "           -2.24659484e+02, -2.20464490e+02, -2.16386787e+02,\n",
       "           -2.12422050e+02, -2.08566153e+02, -2.04815156e+02,\n",
       "           -2.01165296e+02, -1.97612977e+02, -1.94154762e+02,\n",
       "           -1.90787364e+02, -1.87507636e+02, -1.84312570e+02,\n",
       "           -1.81199284e+02, -1.78165016e+02, -1.75207122e+02,\n",
       "           -1.72323066e+02, -1.69510419e+02, -1.66766848e+02,\n",
       "           -1.64090116e+02, -1.61478076e+02, -1.58928665e+02,\n",
       "           -1.56439905e+02, -1.54009891e+02, -1.51636795e+02,\n",
       "           -1.49318859e+02, -1.47054393e+02, -1.44841770e+02,\n",
       "           -1.42679425e+02, -1.40565851e+02, -1.38499599e+02,\n",
       "           -1.36479271e+02, -1.34503521e+02, -1.32571054e+02,\n",
       "           -1.30680618e+02, -1.28831008e+02, -1.27021063e+02,\n",
       "           -1.25249661e+02, -1.23515720e+02, -1.21818196e+02,\n",
       "           -1.20156081e+02, -1.18528401e+02, -1.16934217e+02,\n",
       "           -1.15372619e+02, -1.13842731e+02, -1.12343704e+02,\n",
       "           -1.10874717e+02, -1.09434978e+02, -1.08023719e+02,\n",
       "           -1.06640198e+02, -1.05283697e+02, -1.03953522e+02,\n",
       "           -1.02648998e+02, -1.01369475e+02, -1.00114322e+02,\n",
       "           -9.88829279e+01, -9.76747002e+01, -9.64890652e+01,\n",
       "           -9.53254668e+01, -9.41833660e+01, -9.30622400e+01,\n",
       "           -9.19615819e+01, -9.08808999e+01, -8.98197170e+01,\n",
       "           -8.87775704e+01, -8.77540108e+01, -8.67486022e+01,\n",
       "           -8.57609212e+01, -8.47905568e+01, -8.38371097e+01,\n",
       "           -8.29001921e+01, -8.19794273e+01, -8.10744493e+01,\n",
       "           -8.01849023e+01, -7.93104405e+01, -7.84507277e+01,\n",
       "           -7.76054372e+01, -7.67742510e+01, -7.59568600e+01,\n",
       "           -7.51529636e+01, -7.43622691e+01, -7.35844919e+01,\n",
       "           -7.28193550e+01, -7.20665886e+01, -7.13259303e+01,\n",
       "           -7.05971245e+01, -6.98799224e+01, -6.91740816e+01,\n",
       "           -6.84793659e+01, -6.77955454e+01, -6.71223961e+01,\n",
       "           -6.64596997e+01, -6.58072432e+01, -6.51648194e+01,\n",
       "           -6.45322261e+01, -6.39092662e+01, -6.32957475e+01,\n",
       "           -6.26914826e+01, -6.20962887e+01, -6.15099874e+01,\n",
       "           -6.09324049e+01, -6.03633715e+01, -5.98027215e+01,\n",
       "           -5.92502934e+01, -5.87059294e+01, -5.81694755e+01,\n",
       "           -5.76407815e+01, -5.71197005e+01, -5.66060893e+01,\n",
       "           -5.60998080e+01, -5.56007198e+01, -5.51086912e+01,\n",
       "           -5.46235918e+01, -5.41452942e+01, -5.36736739e+01,\n",
       "           -5.32086091e+01, -5.27499809e+01, -5.22976732e+01,\n",
       "           -5.18515723e+01, -5.14115670e+01, -5.09775489e+01,\n",
       "           -5.05494116e+01, -5.01270514e+01, -4.97103667e+01,\n",
       "           -4.92992581e+01, -4.88936284e+01, -4.84933826e+01,\n",
       "           -4.80984275e+01, -4.77086723e+01, -4.73240279e+01,\n",
       "           -4.69444069e+01, -4.65697242e+01, -4.61998962e+01,\n",
       "           -4.58348412e+01, -4.54744790e+01, -4.51187313e+01,\n",
       "           -4.47675215e+01, -4.44207742e+01, -4.40784159e+01,\n",
       "           -4.37403745e+01, -4.34065795e+01, -4.30769614e+01,\n",
       "           -4.27514528e+01, -4.24299870e+01, -4.21124990e+01,\n",
       "           -4.17989251e+01, -4.14892027e+01, -4.11832706e+01,\n",
       "           -4.08810688e+01, -4.05825383e+01, -4.02876216e+01,\n",
       "           -3.99962619e+01, -3.97084039e+01, -3.94239931e+01,\n",
       "           -3.91429763e+01, -3.88653010e+01, -3.85909160e+01,\n",
       "           -3.83197710e+01, -3.80518165e+01, -3.77870042e+01,\n",
       "           -3.75252866e+01, -3.72666169e+01, -3.70109495e+01,\n",
       "           -3.67582394e+01, -3.65084427e+01, -3.62615160e+01,\n",
       "           -3.60174170e+01, -3.57761039e+01, -3.55375359e+01,\n",
       "           -3.53016728e+01, -3.50684752e+01, -3.48379045e+01,\n",
       "           -3.46099225e+01, -3.43844921e+01, -3.41615765e+01,\n",
       "           -3.39411397e+01, -3.37231465e+01, -3.35075620e+01,\n",
       "           -3.32943522e+01, -3.30834836e+01, -3.28749233e+01,\n",
       "           -3.26686388e+01, -3.24645986e+01, -3.22627712e+01,\n",
       "           -3.20631261e+01, -3.18656330e+01, -3.16702624e+01,\n",
       "           -3.14769852e+01, -3.12857726e+01, -3.10965967e+01,\n",
       "           -3.09094296e+01, -3.07242442e+01, -3.05410138e+01,\n",
       "           -3.03597121e+01, -3.01803133e+01, -3.00027918e+01,\n",
       "           -2.98271229e+01, -2.96532817e+01, -2.94812443e+01,\n",
       "           -2.93109868e+01, -2.91424859e+01, -2.89757185e+01,\n",
       "           -2.88106620e+01, -2.86472941e+01, -2.84855931e+01,\n",
       "           -2.83255372e+01, -2.81671054e+01, -2.80102768e+01,\n",
       "           -2.78550309e+01, -2.77013474e+01, -2.75492065e+01,\n",
       "           -2.73985886e+01, -2.72494745e+01, -2.71018453e+01,\n",
       "           -2.69556822e+01, -2.68109670e+01, -2.66676816e+01,\n",
       "           -2.65258081e+01, -2.63853291e+01, -2.62462273e+01,\n",
       "           -2.61084858e+01, -2.59720878e+01, -2.58370169e+01,\n",
       "           -2.57032568e+01, -2.55707917e+01, -2.54396057e+01,\n",
       "           -2.53096834e+01, -2.51810096e+01, -2.50535692e+01,\n",
       "           -2.49273475e+01, -2.48023298e+01, -2.46785018e+01,\n",
       "           -2.45558494e+01, -2.44343587e+01, -2.43140158e+01,\n",
       "           -2.41948074e+01, -2.40767200e+01, -2.39597405e+01,\n",
       "           -2.38438560e+01, -2.37290538e+01, -2.36153212e+01,\n",
       "           -2.35026459e+01, -2.33910157e+01, -2.32804186e+01,\n",
       "           -2.31708426e+01, -2.30622762e+01, -2.29547077e+01,\n",
       "           -2.28481259e+01, -2.27425195e+01, -2.26378775e+01,\n",
       "           -2.25341890e+01, -2.24314434e+01, -2.23296299e+01,\n",
       "           -2.22287382e+01, -2.21287580e+01, -2.20296791e+01,\n",
       "           -2.19314916e+01, -2.18341856e+01, -2.17377514e+01,\n",
       "           -2.16421793e+01, -2.15474599e+01, -2.14535839e+01,\n",
       "           -2.13605421e+01, -2.12683254e+01, -2.11769248e+01,\n",
       "           -2.10863315e+01, -2.09965368e+01, -2.09075320e+01,\n",
       "           -2.08193088e+01, -2.07318587e+01, -2.06451735e+01,\n",
       "           -2.05592450e+01, -2.04740652e+01, -2.03896262e+01,\n",
       "           -2.03059201e+01, -2.02229392e+01, -2.01406758e+01,\n",
       "           -2.00591226e+01, -1.99782719e+01, -1.98981166e+01,\n",
       "           -1.98186493e+01, -1.97398629e+01, -1.96617505e+01,\n",
       "           -1.95843049e+01, -1.95075194e+01, -1.94313872e+01,\n",
       "           -1.93559016e+01, -1.92810560e+01, -1.92068438e+01,\n",
       "           -1.91332586e+01, -1.90602941e+01, -1.89879440e+01,\n",
       "           -1.89162021e+01, -1.88450622e+01, -1.87745184e+01,\n",
       "           -1.87045646e+01, -1.86351950e+01, -1.85664038e+01,\n",
       "           -1.84981851e+01, -1.84305333e+01, -1.83634429e+01,\n",
       "           -1.82969082e+01, -1.82309239e+01, -1.81654844e+01,\n",
       "           -1.81005845e+01, -1.80362190e+01, -1.79723825e+01,\n",
       "           -1.79090699e+01, -1.78462763e+01, -1.77839965e+01,\n",
       "           -1.77222255e+01, -1.76609586e+01, -1.76001908e+01,\n",
       "           -1.75399174e+01, -1.74801336e+01, -1.74208348e+01,\n",
       "           -1.73620164e+01, -1.73036738e+01, -1.72458025e+01,\n",
       "           -1.71883980e+01, -1.71314560e+01, -1.70749720e+01,\n",
       "           -1.70189419e+01, -1.69633614e+01, -1.69082262e+01,\n",
       "           -1.68535322e+01, -1.67992753e+01, -1.67454515e+01,\n",
       "           -1.66920568e+01, -1.66390871e+01, -1.65865386e+01,\n",
       "           -1.65344075e+01, -1.64826898e+01, -1.64313819e+01,\n",
       "           -1.63804799e+01, -1.63299803e+01, -1.62798792e+01,\n",
       "           -1.62301731e+01, -1.61808586e+01, -1.61319319e+01,\n",
       "           -1.60833896e+01, -1.60352283e+01, -1.59874446e+01,\n",
       "           -1.59400350e+01, -1.58929963e+01, -1.58463252e+01,\n",
       "           -1.58000183e+01, -1.57540725e+01, -1.57084846e+01,\n",
       "           -1.56632513e+01, -1.56183697e+01, -1.55738365e+01,\n",
       "           -1.55296488e+01, -1.54858035e+01, -1.54422977e+01,\n",
       "           -1.53991283e+01, -1.53562925e+01, -1.53137874e+01,\n",
       "           -1.52716100e+01, -1.52297577e+01, -1.51882275e+01,\n",
       "           -1.51470168e+01, -1.51061227e+01, -1.50655426e+01,\n",
       "           -1.50252738e+01, -1.49853136e+01, -1.49456594e+01,\n",
       "           -1.49063086e+01, -1.48672587e+01, -1.48285070e+01,\n",
       "           -1.47900512e+01, -1.47518886e+01, -1.47140169e+01,\n",
       "           -1.46764336e+01, -1.46391363e+01, -1.46021226e+01,\n",
       "           -1.45653901e+01, -1.45289366e+01, -1.44927596e+01,\n",
       "           -1.44568570e+01, -1.44212263e+01, -1.43858655e+01,\n",
       "           -1.43507723e+01, -1.43159444e+01, -1.42813798e+01,\n",
       "           -1.42470762e+01, -1.42130316e+01, -1.41792438e+01,\n",
       "           -1.41457107e+01, -1.41124303e+01, -1.40794006e+01,\n",
       "           -1.40466194e+01, -1.40140848e+01, -1.39817949e+01,\n",
       "           -1.39497477e+01, -1.39179411e+01, -1.38863734e+01,\n",
       "           -1.38550425e+01, -1.38239466e+01, -1.37930839e+01,\n",
       "           -1.37624525e+01, -1.37320505e+01, -1.37018761e+01,\n",
       "           -1.36719276e+01, -1.36422032e+01, -1.36127011e+01,\n",
       "           -1.35834196e+01, -1.35543569e+01, -1.35255114e+01,\n",
       "           -1.34968813e+01, -1.34684650e+01, -1.34402608e+01,\n",
       "           -1.34122671e+01, -1.33844822e+01, -1.33569046e+01,\n",
       "           -1.33295325e+01, -1.33023646e+01, -1.32753991e+01,\n",
       "           -1.32486346e+01, -1.32220695e+01, -1.31957023e+01,\n",
       "           -1.31695315e+01, -1.31435555e+01, -1.31177730e+01,\n",
       "           -1.30921824e+01, -1.30667823e+01, -1.30415713e+01,\n",
       "           -1.30165479e+01, -1.29917107e+01, -1.29670584e+01,\n",
       "           -1.29425895e+01, -1.29183027e+01, -1.28941966e+01,\n",
       "           -1.28702699e+01, -1.28465212e+01, -1.28229493e+01,\n",
       "           -1.27995527e+01, -1.27763303e+01, -1.27532808e+01,\n",
       "           -1.27304028e+01, -1.27076951e+01, -1.26851564e+01,\n",
       "           -1.26627856e+01, -1.26405813e+01, -1.26185425e+01,\n",
       "           -1.25966678e+01, -1.25749561e+01, -1.25534062e+01,\n",
       "           -1.25320169e+01, -1.25107871e+01, -1.24897156e+01,\n",
       "           -1.24688012e+01, -1.24480429e+01, -1.24274396e+01,\n",
       "           -1.24069900e+01, -1.23866932e+01, -1.23665480e+01,\n",
       "           -1.23465534e+01, -1.23267082e+01, -1.23070114e+01,\n",
       "           -1.22874620e+01, -1.22680590e+01, -1.22488012e+01,\n",
       "           -1.22296877e+01, -1.22107174e+01, -1.21918894e+01,\n",
       "           -1.21732026e+01, -1.21546560e+01, -1.21362488e+01,\n",
       "           -1.21179798e+01, -1.20998482e+01, -1.20818530e+01,\n",
       "           -1.20639932e+01, -1.20462680e+01, -1.20286763e+01,\n",
       "           -1.20112172e+01, -1.19938899e+01, -1.19766934e+01,\n",
       "           -1.19596269e+01, -1.19426894e+01, -1.19258801e+01,\n",
       "           -1.19091980e+01, -1.18926424e+01, -1.18762123e+01,\n",
       "           -1.18599069e+01, -1.18437253e+01, -1.18276668e+01,\n",
       "           -1.18117305e+01, -1.17959155e+01, -1.17802211e+01,\n",
       "           -1.17646464e+01, -1.17491906e+01, -1.17338530e+01,\n",
       "           -1.17186326e+01, -1.17035289e+01, -1.16885409e+01,\n",
       "           -1.16736679e+01, -1.16589092e+01, -1.16442639e+01,\n",
       "           -1.16297314e+01, -1.16153109e+01, -1.16010016e+01,\n",
       "           -1.15868028e+01, -1.15727138e+01, -1.15587338e+01,\n",
       "           -1.15448623e+01, -1.15310983e+01, -1.15174413e+01,\n",
       "           -1.15038905e+01, -1.14904452e+01, -1.14771048e+01,\n",
       "           -1.14638686e+01, -1.14507358e+01, -1.14377059e+01,\n",
       "           -1.14247781e+01, -1.14119519e+01, -1.13992265e+01,\n",
       "           -1.13866013e+01, -1.13740756e+01, -1.13616489e+01,\n",
       "           -1.13493204e+01, -1.13370896e+01, -1.13249558e+01,\n",
       "           -1.13129185e+01, -1.13009769e+01, -1.12891305e+01,\n",
       "           -1.12773787e+01, -1.12657209e+01, -1.12541565e+01,\n",
       "           -1.12426849e+01, -1.12313055e+01, -1.12200177e+01,\n",
       "           -1.12088210e+01, -1.11977148e+01, -1.11866985e+01,\n",
       "           -1.11757716e+01, -1.11649334e+01, -1.11541835e+01,\n",
       "           -1.11435213e+01, -1.11329463e+01, -1.11224579e+01,\n",
       "           -1.11120555e+01, -1.11017387e+01, -1.10915069e+01,\n",
       "           -1.10813596e+01, -1.10712963e+01, -1.10613164e+01,\n",
       "           -1.10514195e+01, -1.10416050e+01, -1.10318724e+01,\n",
       "           -1.10222213e+01, -1.10126511e+01, -1.10031613e+01,\n",
       "           -1.09937514e+01, -1.09844211e+01, -1.09751697e+01,\n",
       "           -1.09659968e+01, -1.09569019e+01, -1.09478846e+01,\n",
       "           -1.09389444e+01, -1.09300808e+01, -1.09212934e+01,\n",
       "           -1.09125817e+01, -1.09039452e+01, -1.08953836e+01,\n",
       "           -1.08868963e+01, -1.08784829e+01, -1.08701429e+01,\n",
       "           -1.08618760e+01, -1.08536818e+01, -1.08455596e+01,\n",
       "           -1.08375093e+01, -1.08295302e+01, -1.08216221e+01,\n",
       "           -1.08137844e+01, -1.08060168e+01, -1.07983188e+01,\n",
       "           -1.07906901e+01, -1.07831303e+01, -1.07756388e+01,\n",
       "           -1.07682154e+01, -1.07608597e+01, -1.07535712e+01,\n",
       "           -1.07463495e+01, -1.07391943e+01, -1.07321052e+01,\n",
       "           -1.07250818e+01, -1.07181237e+01, -1.07112305e+01,\n",
       "           -1.07044019e+01, -1.06976375e+01, -1.06909369e+01,\n",
       "           -1.06842998e+01, -1.06777258e+01, -1.06712145e+01,\n",
       "           -1.06647656e+01, -1.06583787e+01, -1.06520534e+01,\n",
       "           -1.06457895e+01, -1.06395866e+01, -1.06334442e+01,\n",
       "           -1.06273621e+01, -1.06213400e+01, -1.06153775e+01,\n",
       "           -1.06094742e+01, -1.06036298e+01, -1.05978440e+01,\n",
       "           -1.05921165e+01, -1.05864470e+01, -1.05808350e+01,\n",
       "           -1.05752803e+01, -1.05697826e+01, -1.05643416e+01,\n",
       "           -1.05589569e+01, -1.05536282e+01, -1.05483552e+01,\n",
       "           -1.05431376e+01, -1.05379751e+01, -1.05328674e+01,\n",
       "           -1.05278141e+01, -1.05228151e+01, -1.05178699e+01,\n",
       "           -1.05129784e+01, -1.05081401e+01, -1.05033548e+01,\n",
       "           -1.04986222e+01, -1.04939421e+01, -1.04893141e+01,\n",
       "           -1.04847379e+01, -1.04802133e+01, -1.04757400e+01,\n",
       "           -1.04713177e+01, -1.04669462e+01, -1.04626251e+01,\n",
       "           -1.04583541e+01, -1.04541331e+01, -1.04499618e+01,\n",
       "           -1.04458398e+01, -1.04417669e+01, -1.04377428e+01,\n",
       "           -1.04337674e+01, -1.04298402e+01, -1.04259611e+01,\n",
       "           -1.04221298e+01, -1.04183461e+01, -1.04146097e+01,\n",
       "           -1.04109203e+01, -1.04072777e+01, -1.04036816e+01,\n",
       "           -1.04001319e+01, -1.03966282e+01, -1.03931703e+01,\n",
       "           -1.03897579e+01, -1.03863909e+01, -1.03830690e+01,\n",
       "           -1.03797919e+01, -1.03765594e+01, -1.03733714e+01,\n",
       "           -1.03702274e+01, -1.03671274e+01, -1.03640710e+01,\n",
       "           -1.03610582e+01, -1.03580885e+01, -1.03551618e+01,\n",
       "           -1.03522780e+01, -1.03494366e+01, -1.03466377e+01,\n",
       "           -1.03438808e+01, -1.03411658e+01, -1.03384926e+01,\n",
       "           -1.03358607e+01, -1.03332702e+01, -1.03307207e+01,\n",
       "           -1.03282120e+01, -1.03257439e+01, -1.03233162e+01,\n",
       "           -1.03209288e+01, -1.03185813e+01, -1.03162737e+01,\n",
       "           -1.03140056e+01, -1.03117769e+01, -1.03095874e+01,\n",
       "           -1.03074369e+01, -1.03053252e+01, -1.03032521e+01,\n",
       "           -1.03012174e+01, -1.02992208e+01, -1.02972623e+01,\n",
       "           -1.02953417e+01, -1.02934586e+01, -1.02916130e+01,\n",
       "           -1.02898046e+01, -1.02880333e+01, -1.02862989e+01,\n",
       "           -1.02846012e+01, -1.02829399e+01, -1.02813150e+01,\n",
       "           -1.02797263e+01, -1.02781735e+01, -1.02766565e+01,\n",
       "           -1.02751751e+01, -1.02737292e+01, -1.02723185e+01,\n",
       "           -1.02709429e+01, -1.02696022e+01, -1.02682962e+01,\n",
       "           -1.02670248e+01, -1.02657878e+01, -1.02645850e+01,\n",
       "           -1.02634163e+01, -1.02622814e+01, -1.02611803e+01,\n",
       "           -1.02601128e+01, -1.02590786e+01, -1.02580777e+01,\n",
       "           -1.02571098e+01, -1.02561748e+01, -1.02552726e+01,\n",
       "           -1.02544030e+01, -1.02535658e+01, -1.02527608e+01,\n",
       "           -1.02519880e+01, -1.02512472e+01, -1.02505381e+01,\n",
       "           -1.02498607e+01, -1.02492149e+01, -1.02486003e+01,\n",
       "           -1.02480170e+01, -1.02474646e+01, -1.02469432e+01,\n",
       "           -1.02464526e+01, -1.02459925e+01, -1.02455629e+01,\n",
       "           -1.02451636e+01, -1.02447945e+01, -1.02444554e+01,\n",
       "           -1.02441462e+01, -1.02438667e+01, -1.02436168e+01,\n",
       "           -1.02433964e+01, -1.02432053e+01, -1.02430434e+01,\n",
       "           -1.02429105e+01, -1.02428065e+01, -1.02427313e+01,\n",
       "           -1.02426847e+01, -1.02426666e+01, -1.02426768e+01,\n",
       "           -1.02427153e+01, -1.02427819e+01, -1.02428765e+01,\n",
       "           -1.02429989e+01, -1.02431490e+01, -1.02433266e+01,\n",
       "           -1.02435318e+01, -1.02437642e+01, -1.02440238e+01,\n",
       "           -1.02443105e+01, -1.02446242e+01, -1.02449646e+01,\n",
       "           -1.02453318e+01, -1.02457255e+01, -1.02461457e+01,\n",
       "           -1.02465922e+01, -1.02470648e+01, -1.02475636e+01,\n",
       "           -1.02480883e+01, -1.02486389e+01, -1.02492152e+01,\n",
       "           -1.02498171e+01, -1.02504445e+01, -1.02510973e+01,\n",
       "           -1.02517753e+01, -1.02524785e+01, -1.02532067e+01,\n",
       "           -1.02539598e+01, -1.02547377e+01, -1.02555403e+01,\n",
       "           -1.02563675e+01, -1.02572191e+01, -1.02580951e+01,\n",
       "           -1.02589954e+01, -1.02599198e+01, -1.02608682e+01,\n",
       "           -1.02618405e+01, -1.02628366e+01, -1.02638565e+01,\n",
       "           -1.02648999e+01, -1.02659668e+01, -1.02670571e+01,\n",
       "           -1.02681707e+01, -1.02693075e+01, -1.02704673e+01,\n",
       "           -1.02716502e+01, -1.02728558e+01, -1.02740843e+01,\n",
       "           -1.02753354e+01, -1.02766091e+01, -1.02779052e+01,\n",
       "           -1.02792238e+01, -1.02805646e+01, -1.02819275e+01,\n",
       "           -1.02833125e+01, -1.02847195e+01, -1.02861484e+01,\n",
       "           -1.02875991e+01, -1.02890714e+01, -1.02905653e+01,\n",
       "           -1.02920808e+01, -1.02936176e+01, -1.02951757e+01,\n",
       "           -1.02967551e+01, -1.02983556e+01, -1.02999771e+01,\n",
       "           -1.03016195e+01, -1.03032828e+01, -1.03049669e+01,\n",
       "           -1.03066716e+01, -1.03083969e+01, -1.03101427e+01,\n",
       "           -1.03119088e+01, -1.03136953e+01, -1.03155020e+01,\n",
       "           -1.03173289e+01, -1.03191758e+01, -1.03210426e+01,\n",
       "           -1.03229294e+01, -1.03248359e+01, -1.03267622e+01,\n",
       "           -1.03287080e+01, -1.03306734e+01, -1.03326583e+01,\n",
       "           -1.03346625e+01, -1.03366860e+01, -1.03387287e+01,\n",
       "           -1.03407906e+01, -1.03428715e+01, -1.03449713e+01,\n",
       "           -1.03470901e+01, -1.03492276e+01, -1.03513839e+01,\n",
       "           -1.03535588e+01, -1.03557523e+01, -1.03579642e+01,\n",
       "           -1.03601946e+01, -1.03624433e+01, -1.03647103e+01,\n",
       "           -1.03669954e+01, -1.03692986e+01, -1.03716199e+01,\n",
       "           -1.03739591e+01, -1.03763162e+01, -1.03786911e+01,\n",
       "           -1.03810837e+01, -1.03834939e+01, -1.03859217e+01,\n",
       "           -1.03883671e+01, -1.03908299e+01, -1.03933100e+01,\n",
       "           -1.03958074e+01, -1.03983220e+01, -1.04008538e+01,\n",
       "           -1.04034027e+01, -1.04059685e+01, -1.04085513e+01,\n",
       "           -1.04111509e+01, -1.04137674e+01, -1.04164005e+01,\n",
       "           -1.04190504e+01, -1.04217168e+01, -1.04243997e+01,\n",
       "           -1.04270991e+01, -1.04298148e+01, -1.04325469e+01,\n",
       "           -1.04352952e+01, -1.04380597e+01, -1.04408404e+01,\n",
       "           -1.04436370e+01, -1.04464497e+01, -1.04492783e+01,\n",
       "           -1.04521227e+01, -1.04549829e+01, -1.04578589e+01,\n",
       "           -1.04607505e+01, -1.04636578e+01, -1.04665805e+01,\n",
       "           -1.04695188e+01, -1.04724724e+01, -1.04754414e+01,\n",
       "           -1.04784257e+01, -1.04814252e+01, -1.04844399e+01,\n",
       "           -1.04874697e+01, -1.04905145e+01, -1.04935744e+01,\n",
       "           -1.04966491e+01] m / s2>"
      ]
     },
     "execution_count": 25,
     "metadata": {},
     "output_type": "execute_result"
    }
   ],
   "source": [
    "gR.decompose()"
   ]
  },
  {
   "cell_type": "code",
   "execution_count": 31,
   "metadata": {},
   "outputs": [
    {
     "data": {
      "text/plain": [
       "<matplotlib.lines.Line2D at 0x7feba829b510>"
      ]
     },
     "execution_count": 31,
     "metadata": {},
     "output_type": "execute_result"
    },
    {
     "data": {
      "image/png": "[encoded data removed]",
      "text/plain": [
       "<Figure size 432x288 with 1 Axes>"
      ]
     },
     "metadata": {
      "needs_background": "light"
     },
     "output_type": "display_data"
    }
   ],
   "source": [
    "# Plot gravitational acceleration vs. radius\n",
    "\n",
    "plt.plot(r[100:], gR.decompose()[100:])\n",
    "plt.plot(r[100:], gRorig.decompose()[100:])\n",
    "plt.axvline(Rc.to(u.R_earth).value, color='r', linestyle='--')\n",
    "plt.title('Gravitational Acceleration vs. Radius')\n",
    "plt.axhline(0, color='k', linestyle='--')\n",
    "#plt.semilogy()"
   ]
  },
  {
   "cell_type": "markdown",
   "metadata": {},
   "source": [
    "Model $r > R_c$ clearly cannot apply everywhere, since for $r < R_c$, we actually get a repulsive force. This is why the plot of $r(t)$ goes down to 0.2 and back up - which is unreasonable. We need a way to evaluate the piecewise differential equation."
   ]
  },
  {
   "cell_type": "markdown",
   "metadata": {},
   "source": [
    "### Model B: Piece-wise differential equation\n",
    "\n",
    "$\\frac{d^2r}{dt^2} =  \\, \\, -\\frac{4}{3}\\pi G \\rho_c r \\, \\qquad \\qquad \\text{if } r < R_c \\\\ \n",
    "\\qquad \\quad -\\frac{4}{3}\\pi G \\rho_c \\bigg(\\frac{r^3 - R_c^3}{r^2}\\bigg) \\quad \\text{if } r \\geq R_c $\n",
    "\n",
    "We need to switch between these two equations at the core radius. Let us first plot the gravitational acceleration in this new scheme."
   ]
  },
  {
   "cell_type": "code",
   "execution_count": 1,
   "metadata": {},
   "outputs": [],
   "source": [
    "import numpy as np\n",
    "from scipy.integrate import odeint\n",
    "import matplotlib.pyplot as plt\n",
    "import astropy.units as u\n",
    "import astropy.constants as c\n",
    "\n",
    "\n",
    "# Earth core radius, Earth core density\n",
    "Rc = 3485 * u.km\n",
    "rho_c = 12.5 * u.g / u.cm**3\n",
    "\n",
    "# Earth radius, magma density\n",
    "Re = 1 * u.R_earth\n",
    "rho_e = 4.2 * u.g / u.cm**3\n",
    "\n",
    "# Earth avg density\n",
    "rho_avg = 5.513 * u.g / u.cm**3\n",
    "\n",
    "# Set the parameters\n",
    "kavg = (4 / 3) * np.pi * rho_avg * c.G # You can adjust the value of k\n",
    "kc = (4 / 3) * np.pi * rho_c * c.G # You can adjust the value of k\n",
    "ke = (4 / 3) * np.pi * rho_e * c.G # You can adjust the value of k\n",
    "c = (4 / 3) * np.pi * (rho_e - rho_c) * c.G * (Rc ** 3)  # You can adjust the value of c"
   ]
  },
  {
   "cell_type": "code",
   "execution_count": 2,
   "metadata": {},
   "outputs": [
    {
     "name": "stderr",
     "output_type": "stream",
     "text": [
      "/Users/shri/opt/miniconda3/envs/astroconda/lib/python3.7/site-packages/astropy/units/quantity.py:486: RuntimeWarning: divide by zero encountered in true_divide\n",
      "  result = super().__array_ufunc__(function, method, *arrays, **kwargs)\n"
     ]
    }
   ],
   "source": [
    "r = np.linspace(0,  1, 1000) * u.R_earth\n",
    "g_out = - ke * r + c / (r ** 2)\n",
    "g_in = - kc * r\n",
    "gRorig = - kavg * r"
   ]
  },
  {
   "cell_type": "code",
   "execution_count": 27,
   "metadata": {},
   "outputs": [
    {
     "data": {
      "image/png": "[encoded data removed]",
      "text/plain": [
       "<Figure size 432x288 with 1 Axes>"
      ]
     },
     "metadata": {
      "needs_background": "light"
     },
     "output_type": "display_data"
    }
   ],
   "source": [
    "# Plot gravitational acceleration vs. radius\n",
    "\n",
    "core_idx = np.where(r.to(u.R_earth).value < Rc.to(u.R_earth).value)[0][-1]\n",
    "\n",
    "plt.plot(r[core_idx:], g_out.decompose()[core_idx:], color = 'blue', label = 'Core-Mantle Model')\n",
    "plt.plot(r[:core_idx], g_in.decompose()[:core_idx], color = 'blue')\n",
    "plt.plot(r, gRorig.decompose(), color = 'orange', label = 'Constant Density Model')\n",
    "plt.axvline(Rc.to(u.R_earth).value, color='r', linestyle='--', label = 'Core Radius')\n",
    "plt.title('Gravitational Acceleration vs. Radius')\n",
    "plt.xlabel('Radius (R$_{earth}$)')\n",
    "plt.ylabel('g (m/s$^2$)')\n",
    "plt.legend()\n",
    "plt.savefig(\"g_varydensity.png\", bbox_inches='tight', dpi=300)"
   ]
  },
  {
   "cell_type": "code",
   "execution_count": 36,
   "metadata": {},
   "outputs": [],
   "source": [
    "# Define the acceleration due to gravity as functions\n",
    "g_out_func = lambda r, k, c: - k * r + c / (r ** 2)\n",
    "g_in_func = lambda r, k: - k * r\n",
    "\n",
    "# Define the ODE as a system of first-order ODEs\n",
    "def model_final(y, t, ke, kc, c):\n",
    "    \"\"\"\n",
    "    y[0] = r\n",
    "    y[1] = dr/dt = v\n",
    "    \"\"\"\n",
    "    if y[0] < Rc.to(u.R_earth).value:\n",
    "        dydt = [y[1], g_in_func(y[0], kc)]\n",
    "    else:\n",
    "        dydt = [y[1], g_out_func(y[0], ke, c)]\n",
    "    return dydt\n",
    "\n",
    "def model_old(y, t, k):\n",
    "    \"\"\"\n",
    "    y[0] = r\n",
    "    y[1] = dr/dt = v\n",
    "    \"\"\"\n",
    "    dydt = [y[1], -k * y[0]]\n",
    "    return dydt\n"
   ]
  },
  {
   "cell_type": "code",
   "execution_count": 37,
   "metadata": {},
   "outputs": [],
   "source": [
    "# Set the initial conditions\n",
    "r0 = 1.0 * Re  # Initial value of r\n",
    "v0 = 0.0 * u.m / u.s # Initial value of dr/dt\n",
    "initial_conditions = [r0.to(u.R_earth).value, v0.to(u.R_earth / u.hr).value]"
   ]
  },
  {
   "cell_type": "code",
   "execution_count": 43,
   "metadata": {},
   "outputs": [
    {
     "name": "stdout",
     "output_type": "stream",
     "text": [
      "Peak at t = 0.00 hours\n",
      "Peak at t = 0.55 hours\n",
      "Peak at t = 1.10 hours\n",
      "Peak at t = 1.65 hours\n",
      "Peak at t = 2.20 hours\n",
      "Peak at t = 2.75 hours\n"
     ]
    },
    {
     "data": {
      "image/png": "[encoded data removed]",
      "text/plain": [
       "<Figure size 432x288 with 1 Axes>"
      ]
     },
     "metadata": {
      "needs_background": "light"
     },
     "output_type": "display_data"
    }
   ],
   "source": [
    "# Set the time grid\n",
    "t = np.linspace(0, 3, 1000) # Adjust the time range and number of points as needed\n",
    "\n",
    "# Solve the ODE using odeint\n",
    "solution = odeint(model_final, initial_conditions, t, args=(ke.to(u.hr ** -2).value, kc.to(u.hr ** -2).value, c.decompose().to(u.R_earth**3 / u.hr**2).value))\n",
    "solution_old = odeint(model_old, initial_conditions, t, args=(kavg.to(u.hr ** -2).value,))\n",
    "\n",
    "# Extract the solution\n",
    "r_values = solution[:, 0]\n",
    "r_values_old = solution_old[:, 0]\n",
    "\n",
    "# Find the indices of the peaks\n",
    "peak_indices = np.where(np.diff(np.sign(np.diff(r_values))))[0] + 1\n",
    "peak_indices = list(peak_indices)\n",
    "peak_indices.insert(0, 0)\n",
    "\n",
    "for i in range(len(peak_indices)):\n",
    "    print('Peak at t = {:.2f} hours'.format(t[peak_indices][i]))\n",
    "    #plt.axvline(t[peak_indices][i], color='r', linestyle='--')\n",
    "\n",
    "# Plot the results\n",
    "plt.plot(t, r_values, label='new r(t)')\n",
    "plt.plot(t, r_values_old, label='old r(t)')\n",
    "plt.title('Position of Ball vs. Time')\n",
    "plt.xlabel('Time (hours)')\n",
    "plt.ylabel('r(t) (R$_{earth}$)')\n",
    "plt.legend(loc = 'lower right')\n",
    "plt.savefig(\"ballposn.png\", bbox_inches='tight', dpi=300)"
   ]
  },
  {
   "cell_type": "code",
   "execution_count": 31,
   "metadata": {},
   "outputs": [
    {
     "data": {
      "text/latex": [
       "$66 \\; \\mathrm{min}$"
      ],
      "text/plain": [
       "<Quantity 66. min>"
      ]
     },
     "execution_count": 31,
     "metadata": {},
     "output_type": "execute_result"
    }
   ],
   "source": [
    "((1.10) * u.hr).to(u.min)"
   ]
  },
  {
   "cell_type": "code",
   "execution_count": null,
   "metadata": {},
   "outputs": [],
   "source": []
  }
 ],
 "metadata": {
  "kernelspec": {
   "display_name": "astroconda",
   "language": "python",
   "name": "python3"
  },
  "language_info": {
   "codemirror_mode": {
    "name": "ipython",
    "version": 3
   },
   "file_extension": ".py",
   "mimetype": "text/x-python",
   "name": "python",
   "nbconvert_exporter": "python",
   "pygments_lexer": "ipython3",
   "version": "3.7.11"
  }
 },
 "nbformat": 4,
 "nbformat_minor": 2
}
