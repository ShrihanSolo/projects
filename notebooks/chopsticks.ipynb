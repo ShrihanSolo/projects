{
 "cells": [
  {
   "cell_type": "code",
   "execution_count": 49,
   "metadata": {},
   "outputs": [],
   "source": [
    "import numpy as np\n",
    "import random\n",
    "# Game of chopsticks\n",
    "\n",
    "class GameState():\n",
    "\n",
    "    def __init__(self, playerleft = 1, playerright = 1, oppleft = 1, oppright = 1):\n",
    "        self.player = {\"l\": playerleft, \"r\": playerright}\n",
    "        self.opponent = {\"l\": oppleft, \"r\": oppright}\n",
    "        #self.hand_order()\n",
    "        self.turn = 0 # 0 for player, 1 for opponent\n",
    "    \n",
    "    def __str__(self):\n",
    "        printleft = self.player[\"l\"]\n",
    "        printright = self.player[\"r\"]\n",
    "        printoppleft = self.opponent[\"l\"]\n",
    "        printoppright = self.opponent[\"r\"]\n",
    "        \n",
    "        \n",
    "        if printleft == 0:\n",
    "            printleft = \"~\"\n",
    "        \n",
    "        if printright == 0:\n",
    "            printright = \"~\"\n",
    "            \n",
    "        if printoppleft == 0:\n",
    "            printoppleft = \"~\"\n",
    "            \n",
    "        if printoppright == 0:\n",
    "            printoppright = \"~\"\n",
    "        \n",
    "        \n",
    "        return \"Player: \" + str(printleft) + \" \" + str(printright) + \" Opponent: \" + str(printoppleft) + \" \" + str(printoppright)\n",
    "    \n",
    "    def hand_order(self):\n",
    "        if self.player[\"l\"] > self.player[\"r\"]:\n",
    "            self.player[\"l\"], self.player[\"r\"] = self.player[\"r\"], self.player[\"l\"]\n",
    "        if self.opponent[\"l\"] > self.opponent[\"r\"]:\n",
    "            self.opponent[\"l\"], self.opponent[\"r\"] = self.opponent[\"r\"], self.opponent[\"l\"]\n",
    "    \n",
    "    def play_turn(self, string):\n",
    "        if string[0] == \"a\":\n",
    "            return self.play_attack_turn(string[1], string[2])\n",
    "        elif string[0] == \"s\":\n",
    "            return self.play_shift_turn(int(string[1:]))\n",
    "        elif string[0] == \"r\":\n",
    "            vmoves = self.get_valid_moves()\n",
    "            move = random.choice(vmoves)\n",
    "            print(\"Move:\", move)\n",
    "            return self.play_turn(move)\n",
    "    \n",
    "    def play_attack_turn(self, turnhand, receivehand):\n",
    "        \n",
    "        assert turnhand in [\"l\", \"r\"], \"Invalid hand\"\n",
    "        assert receivehand in [\"l\", \"r\"], \"Invalid hand\"\n",
    "        \n",
    "        \n",
    "        if self.turn == 0:\n",
    "            if self.player[turnhand] == 0:\n",
    "                print(\"Cannot attack with an empty hand!\")\n",
    "                return False\n",
    "\n",
    "            if self.opponent[receivehand] == 0:\n",
    "                print(\"Cannot hit an empty hand!\")\n",
    "                return False\n",
    "            \n",
    "            self.opponent[receivehand] = (self.player[turnhand] + self.opponent[receivehand]) % 5\n",
    "                    \n",
    "        elif self.turn == 1:\n",
    "            if self.opponent[turnhand] == 0:\n",
    "                print(\"Cannot attack with an empty hand!\")\n",
    "                return False\n",
    "\n",
    "            if self.player[receivehand] == 0:\n",
    "                print(\"Cannot hit an empty hand!\")\n",
    "                return False\n",
    "            \n",
    "            self.player[receivehand] = (self.player[receivehand] + self.opponent[turnhand]) % 5\n",
    "        \n",
    "        self.turn = 1 - self.turn\n",
    "        #self.hand_order()\n",
    "        return True\n",
    "    \n",
    "    def play_shift_turn(self, torightcount):\n",
    "        \n",
    "        \n",
    "        if self.turn == 0: \n",
    "            tempr = self.player[\"r\"] + torightcount\n",
    "            templ = self.player[\"l\"] - torightcount\n",
    "            \n",
    "            if (tempr < 0) or (templ < 0) or (tempr >= 5) or (templ >= 5):\n",
    "                print(\"Invalid move!\")\n",
    "                return False\n",
    "            else:\n",
    "                self.player[\"r\"] = tempr\n",
    "                self.player[\"l\"] = templ\n",
    "            \n",
    "        elif self.turn == 1:\n",
    "            tempr = self.opponent[\"r\"] + torightcount\n",
    "            templ = self.opponent[\"l\"] - torightcount\n",
    "            \n",
    "            if (tempr < 0) or (templ < 0) or (tempr >= 5) or (templ >= 5):\n",
    "                print(\"Invalid move!\")\n",
    "                return False\n",
    "            else:\n",
    "                self.opponent[\"r\"] = tempr\n",
    "                self.opponent[\"l\"] = templ\n",
    "        \n",
    "        self.turn = 1 - self.turn\n",
    "        #self.hand_order()\n",
    "        return True\n",
    "    def is_game_over(self):\n",
    "        if self.player[\"l\"] == 0 and self.player[\"r\"] == 0:\n",
    "            return 1\n",
    "        elif self.opponent[\"l\"] == 0 and self.opponent[\"r\"] == 0:\n",
    "            return -1\n",
    "        else:\n",
    "            return 0\n",
    "    \n",
    "    def get_valid_moves(self):\n",
    "        \n",
    "        vmoves = []\n",
    "\n",
    "        if self.turn == 0:\n",
    "            \n",
    "            if self.player[\"l\"] != 0:\n",
    "                if self.opponent[\"l\"] != 0:\n",
    "                    vmoves.append(\"all\")\n",
    "                if self.opponent[\"r\"] != 0:\n",
    "                    vmoves.append(\"alr\")\n",
    "                \n",
    "                for i in np.arange(1, self.player[\"l\"] + 1):\n",
    "                    vmoves.append(\"s\" + str(i))\n",
    "                \n",
    "            if self.player[\"r\"] != 0:\n",
    "                if self.opponent[\"l\"] != 0:\n",
    "                    vmoves.append(\"arl\")\n",
    "                if self.opponent[\"r\"] != 0:\n",
    "                    vmoves.append(\"arr\")\n",
    "    \n",
    "                for i in range(1, self.player[\"r\"] + 1):\n",
    "                    vmoves.append(\"s\" + str(-i))\n",
    "            \n",
    "            d = self.player[\"r\"] - self.player[\"l\"]\n",
    "            if d != 0:\n",
    "                vmoves.remove(\"s\" + str(-d))\n",
    "            \n",
    "        elif self.turn == 1:\n",
    "            if self.opponent[\"l\"] != 0:\n",
    "                if self.player[\"l\"] != 0:\n",
    "                    vmoves.append(\"all\")\n",
    "                if self.player[\"r\"] != 0:\n",
    "                    vmoves.append(\"alr\")\n",
    "                \n",
    "                for i in np.arange(1, self.opponent[\"l\"] + 1):\n",
    "                    vmoves.append(\"s\" + str(i))\n",
    "                \n",
    "            if self.opponent[\"r\"] != 0:\n",
    "                if self.player[\"l\"] != 0:\n",
    "                    vmoves.append(\"arl\")\n",
    "                if self.player[\"r\"] != 0:\n",
    "                    vmoves.append(\"arr\")\n",
    "    \n",
    "                for i in range(1, self.opponent[\"r\"] + 1):\n",
    "                    vmoves.append(\"s\" + str(-i))\n",
    "\n",
    "            d = self.opponent[\"r\"] - self.opponent[\"l\"]\n",
    "            if d != 0:\n",
    "                vmoves.remove(\"s\" + str(-d))\n",
    "            \n",
    "        return vmoves\n",
    "        \n",
    "        "
   ]
  },
  {
   "cell_type": "code",
   "execution_count": 24,
   "metadata": {},
   "outputs": [],
   "source": [
    "gs = GameState(3, 2, 0, 4)\n",
    "#gs.hand_order()"
   ]
  },
  {
   "cell_type": "code",
   "execution_count": 25,
   "metadata": {},
   "outputs": [
    {
     "name": "stdout",
     "output_type": "stream",
     "text": [
      "Player: 3 2 Opponent: ~ 4\n"
     ]
    }
   ],
   "source": [
    "print(gs)"
   ]
  },
  {
   "cell_type": "code",
   "execution_count": 26,
   "metadata": {},
   "outputs": [
    {
     "data": {
      "text/plain": [
       "['alr', 's1', 's2', 's3', 'arr', 's-1', 's-2']"
      ]
     },
     "execution_count": 26,
     "metadata": {},
     "output_type": "execute_result"
    }
   ],
   "source": [
    "gs.get_valid_moves()"
   ]
  },
  {
   "cell_type": "code",
   "execution_count": 27,
   "metadata": {},
   "outputs": [
    {
     "data": {
      "text/plain": [
       "True"
      ]
     },
     "execution_count": 27,
     "metadata": {},
     "output_type": "execute_result"
    }
   ],
   "source": [
    "gs.play_turn(gs.get_valid_moves()[0])"
   ]
  },
  {
   "cell_type": "code",
   "execution_count": 46,
   "metadata": {},
   "outputs": [],
   "source": [
    "def ask_turn(gs):\n",
    "    print(\"Enter your move: \", end = '')\n",
    "    res = input()\n",
    "    print(res)\n",
    "    if res == \"p\":\n",
    "        print(gs)\n",
    "        return ask_turn(gs)\n",
    "    if res == \"q\":\n",
    "        return False\n",
    "    \n",
    "    vmoves = gs.get_valid_moves()\n",
    "    if res == \"g\":\n",
    "        print(\"Valid Moves:\", vmoves)\n",
    "        return ask_turn(gs)\n",
    "    if res not in vmoves:\n",
    "        print(\"Invalid move!\")\n",
    "        return ask_turn(gs)\n",
    "    return res"
   ]
  },
  {
   "cell_type": "code",
   "execution_count": 50,
   "metadata": {},
   "outputs": [
    {
     "name": "stdout",
     "output_type": "stream",
     "text": [
      "********************\n",
      "Player 1 Turn\n",
      "Player: 1 ~ Opponent: ~ 1\n",
      "Enter your move: s1\n",
      "Invalid move!\n",
      "Enter your move: s2\n",
      "Invalid move!\n",
      "Enter your move: a\n",
      "Invalid move!\n",
      "Enter your move: g\n",
      "Valid Moves: ['alr']\n",
      "Enter your move: alr\n",
      "********************\n",
      "Player 2 Turn\n",
      "Player: 1 ~ Opponent: ~ 2\n",
      "Move: s-1\n",
      "********************\n",
      "Player 1 Turn\n",
      "Player: 1 ~ Opponent: 1 1\n",
      "Enter your move: alr\n",
      "********************\n",
      "Player 2 Turn\n",
      "Player: 1 ~ Opponent: 1 2\n",
      "Move: arl\n",
      "********************\n",
      "Player 1 Turn\n",
      "Player: 3 ~ Opponent: 1 2\n",
      "Enter your move: alr\n",
      "********************\n",
      "Player 2 Turn\n",
      "Player: 3 ~ Opponent: 1 ~\n",
      "Move: all\n",
      "********************\n",
      "Player 1 Turn\n",
      "Player: 4 ~ Opponent: 1 ~\n",
      "Enter your move: all\n",
      "Player: 4 ~ Opponent: ~ ~\n",
      "Game Over!\n"
     ]
    }
   ],
   "source": [
    "# MAIN\n",
    "gs = GameState(1, 0, 0, 1)\n",
    "while gs.is_game_over() == 0:\n",
    "    print(\"*\" * 20)\n",
    "    \n",
    "    print(\"Player 1 Turn\")\n",
    "    print(gs)\n",
    "    \n",
    "    res = ask_turn(gs)\n",
    "    if res:\n",
    "        suc = gs.play_turn(res)\n",
    "        assert suc\n",
    "    else:\n",
    "        print(\"Quitting.\")\n",
    "        break\n",
    "    \n",
    "    \n",
    "    if gs.is_game_over():\n",
    "        print(\"*\" * 20)\n",
    "        print(gs)\n",
    "        print(\"Game Over!\")\n",
    "        break\n",
    "    \n",
    "    print(\"*\" * 20)\n",
    "    \n",
    "    print(\"Player 2 Turn\")\n",
    "    print(gs)\n",
    "    res = \"r\" # input(\"Player 2 Turn\")\n",
    "    suc = gs.play_turn(res)\n",
    "    \n",
    "    if gs.is_game_over():\n",
    "        print(\"*\" * 20)\n",
    "        print(gs)\n",
    "        print(\"Game Over!\")\n",
    "        break\n",
    "        \n"
   ]
  },
  {
   "cell_type": "code",
   "execution_count": 12,
   "metadata": {},
   "outputs": [],
   "source": [
    "gs = GameState(3, 0, 0, 1)"
   ]
  },
  {
   "cell_type": "code",
   "execution_count": 36,
   "metadata": {},
   "outputs": [
    {
     "data": {
      "text/plain": [
       "[2, 3]"
      ]
     },
     "execution_count": 36,
     "metadata": {},
     "output_type": "execute_result"
    }
   ],
   "source": [
    "a = [1, 2, 3]\n",
    "a.remove(1)\n",
    "a"
   ]
  },
  {
   "cell_type": "code",
   "execution_count": 14,
   "metadata": {},
   "outputs": [
    {
     "data": {
      "text/plain": [
       "['alr', 's-1']"
      ]
     },
     "execution_count": 14,
     "metadata": {},
     "output_type": "execute_result"
    }
   ],
   "source": [
    "gs.get_valid_moves()"
   ]
  },
  {
   "cell_type": "code",
   "execution_count": 15,
   "metadata": {},
   "outputs": [],
   "source": [
    "gs = GameState(3, 0, 1, 0)"
   ]
  },
  {
   "cell_type": "code",
   "execution_count": 16,
   "metadata": {},
   "outputs": [],
   "source": [
    "gs.turn = 1"
   ]
  },
  {
   "cell_type": "code",
   "execution_count": 17,
   "metadata": {},
   "outputs": [
    {
     "data": {
      "text/plain": [
       "['all', 's1']"
      ]
     },
     "execution_count": 17,
     "metadata": {},
     "output_type": "execute_result"
    }
   ],
   "source": [
    "gs.get_valid_moves()"
   ]
  },
  {
   "cell_type": "code",
   "execution_count": 23,
   "metadata": {},
   "outputs": [
    {
     "data": {
      "text/plain": [
       "'s0'"
      ]
     },
     "execution_count": 23,
     "metadata": {},
     "output_type": "execute_result"
    }
   ],
   "source": [
    "\"s\" + str(gs.player[\"r\"] - gs.player[\"l\"])"
   ]
  },
  {
   "cell_type": "code",
   "execution_count": null,
   "metadata": {},
   "outputs": [],
   "source": []
  }
 ],
 "metadata": {
  "kernelspec": {
   "display_name": "astroconda",
   "language": "python",
   "name": "python3"
  },
  "language_info": {
   "codemirror_mode": {
    "name": "ipython",
    "version": 3
   },
   "file_extension": ".py",
   "mimetype": "text/x-python",
   "name": "python",
   "nbconvert_exporter": "python",
   "pygments_lexer": "ipython3",
   "version": "3.7.16"
  }
 },
 "nbformat": 4,
 "nbformat_minor": 2
}
