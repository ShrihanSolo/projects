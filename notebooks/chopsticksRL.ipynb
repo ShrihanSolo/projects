{
 "cells": [
  {
   "cell_type": "code",
   "execution_count": 388,
   "metadata": {},
   "outputs": [],
   "source": [
    "import numpy as np\n",
    "import random\n",
    "import tensorflow as tf\n",
    "from tqdm import tqdm\n",
    "from tensorflow import keras"
   ]
  },
  {
   "cell_type": "code",
   "execution_count": 249,
   "metadata": {},
   "outputs": [],
   "source": [
    "class GameState():\n",
    "    \n",
    "    all_moves = ['alr', 'arl', 'arr', 'all', 's1', 's2', 's3', 's-1', 's-2', 's-3']\n",
    "    moves_dict = dict(zip(all_moves, np.arange(len(all_moves))))\n",
    "    \n",
    "    def __init__(self, playerleft = 1, playerright = 1, oppleft = 1, oppright = 1, turn = 0):\n",
    "        self.player = {\"l\": playerleft, \"r\": playerright}\n",
    "        self.opponent = {\"l\": oppleft, \"r\": oppright}\n",
    "        self.turn = turn # 0 for player, 1 for opponent\n",
    "        self.turn_number = 0\n",
    "    \n",
    "    def get_state(self):\n",
    "        return [self.player[\"l\"], self.player[\"r\"], self.opponent[\"l\"], self.opponent[\"r\"], self.turn, self.turn_number / 100]\n",
    "    \n",
    "    def __str__(self):\n",
    "        printleft = self.player[\"l\"]\n",
    "        printright = self.player[\"r\"]\n",
    "        printoppleft = self.opponent[\"l\"]\n",
    "        printoppright = self.opponent[\"r\"]\n",
    "        \n",
    "        \n",
    "        if printleft == 0:\n",
    "            printleft = \"~\"\n",
    "        \n",
    "        if printright == 0:\n",
    "            printright = \"~\"\n",
    "            \n",
    "        if printoppleft == 0:\n",
    "            printoppleft = \"~\"\n",
    "            \n",
    "        if printoppright == 0:\n",
    "            printoppright = \"~\"\n",
    "        \n",
    "        \n",
    "        return \"Player: \" + str(printleft) + \" \" + str(printright) + \" Opponent: \" + str(printoppleft) + \" \" + str(printoppright)\n",
    "    \n",
    "    def hand_order(self):\n",
    "        if self.player[\"l\"] > self.player[\"r\"]:\n",
    "            self.player[\"l\"], self.player[\"r\"] = self.player[\"r\"], self.player[\"l\"]\n",
    "        if self.opponent[\"l\"] > self.opponent[\"r\"]:\n",
    "            self.opponent[\"l\"], self.opponent[\"r\"] = self.opponent[\"r\"], self.opponent[\"l\"]\n",
    "    \n",
    "    def play_turn(self, string):\n",
    "        if string[0] == \"a\":\n",
    "            return self.play_attack_turn(string[1], string[2])\n",
    "        elif string[0] == \"s\":\n",
    "            return self.play_shift_turn(int(string[1:]))\n",
    "        elif string[0] == \"r\":\n",
    "            vmoves = self.get_valid_moves()\n",
    "            move = random.choice(vmoves)\n",
    "            print(\"Move:\", move)\n",
    "            return self.play_turn(move)\n",
    "    \n",
    "    def play_attack_turn(self, turnhand, receivehand):\n",
    "        \n",
    "        assert turnhand in [\"l\", \"r\"], \"Invalid hand\"\n",
    "        assert receivehand in [\"l\", \"r\"], \"Invalid hand\"\n",
    "        \n",
    "        \n",
    "        if self.turn == 0:\n",
    "            if self.player[turnhand] == 0:\n",
    "                print(\"Cannot attack with an empty hand!\")\n",
    "                return False\n",
    "\n",
    "            if self.opponent[receivehand] == 0:\n",
    "                print(\"Cannot hit an empty hand!\")\n",
    "                return False\n",
    "            \n",
    "            self.opponent[receivehand] = (self.player[turnhand] + self.opponent[receivehand]) % 5\n",
    "                    \n",
    "        elif self.turn == 1:\n",
    "            if self.opponent[turnhand] == 0:\n",
    "                print(\"Cannot attack with an empty hand!\")\n",
    "                return False\n",
    "\n",
    "            if self.player[receivehand] == 0:\n",
    "                print(\"Cannot hit an empty hand!\")\n",
    "                return False\n",
    "            \n",
    "            self.player[receivehand] = (self.player[receivehand] + self.opponent[turnhand]) % 5\n",
    "        \n",
    "        self.turn = 1 - self.turn\n",
    "        self.turn_number += 1\n",
    "        return True\n",
    "    \n",
    "    def play_shift_turn(self, torightcount):\n",
    "        \n",
    "        \n",
    "        if self.turn == 0: \n",
    "            tempr = self.player[\"r\"] + torightcount\n",
    "            templ = self.player[\"l\"] - torightcount\n",
    "            \n",
    "            if (tempr < 0) or (templ < 0) or (tempr >= 5) or (templ >= 5):\n",
    "                print(\"Invalid move!\")\n",
    "                return False\n",
    "            else:\n",
    "                self.player[\"r\"] = tempr\n",
    "                self.player[\"l\"] = templ\n",
    "            \n",
    "        elif self.turn == 1:\n",
    "            tempr = self.opponent[\"r\"] + torightcount\n",
    "            templ = self.opponent[\"l\"] - torightcount\n",
    "            \n",
    "            if (tempr < 0) or (templ < 0) or (tempr >= 5) or (templ >= 5):\n",
    "                print(\"Invalid move!\")\n",
    "                return False\n",
    "            else:\n",
    "                self.opponent[\"r\"] = tempr\n",
    "                self.opponent[\"l\"] = templ\n",
    "        \n",
    "        self.turn = 1 - self.turn\n",
    "        self.turn_number += 1\n",
    "        return True\n",
    "    \n",
    "    def is_game_over(self):\n",
    "        if self.player[\"l\"] == 0 and self.player[\"r\"] == 0:\n",
    "            return \"opponent\"\n",
    "        elif self.opponent[\"l\"] == 0 and self.opponent[\"r\"] == 0:\n",
    "            return \"player\"\n",
    "        elif self.turn_number >= 100:\n",
    "            return \"limit\"\n",
    "        else:\n",
    "            return 0\n",
    "    \n",
    "    def get_valid_moves(self):\n",
    "        \n",
    "        vmoves = []\n",
    "\n",
    "        if self.turn == 0:\n",
    "            \n",
    "            if self.player[\"l\"] != 0:\n",
    "                if self.opponent[\"l\"] != 0:\n",
    "                    vmoves.append(\"all\")\n",
    "                if self.opponent[\"r\"] != 0:\n",
    "                    vmoves.append(\"alr\")\n",
    "                \n",
    "                for i in np.arange(1, self.player[\"l\"] + 1):\n",
    "                    if self.player[\"r\"] + i < 5:\n",
    "                        vmoves.append(\"s\" + str(i))\n",
    "                \n",
    "            if self.player[\"r\"] != 0:\n",
    "                if self.opponent[\"l\"] != 0:\n",
    "                    vmoves.append(\"arl\")\n",
    "                if self.opponent[\"r\"] != 0:\n",
    "                    vmoves.append(\"arr\")\n",
    "    \n",
    "                for i in range(1, self.player[\"r\"] + 1):\n",
    "                    if self.player[\"l\"] + i < 5:\n",
    "                        vmoves.append(\"s\" + str(-i))\n",
    "            \n",
    "            d = self.player[\"r\"] - self.player[\"l\"]\n",
    "            if d != 0:\n",
    "                vmoves.remove(\"s\" + str(-d))\n",
    "            \n",
    "        elif self.turn == 1:\n",
    "            if self.opponent[\"l\"] != 0:\n",
    "                if self.player[\"l\"] != 0:\n",
    "                    vmoves.append(\"all\")\n",
    "                if self.player[\"r\"] != 0:\n",
    "                    vmoves.append(\"alr\")\n",
    "                \n",
    "                for i in np.arange(1, self.opponent[\"l\"] + 1):\n",
    "                    if self.opponent[\"r\"] + i < 5:\n",
    "                        vmoves.append(\"s\" + str(i))\n",
    "                \n",
    "            if self.opponent[\"r\"] != 0:\n",
    "                if self.player[\"l\"] != 0:\n",
    "                    vmoves.append(\"arl\")\n",
    "                if self.player[\"r\"] != 0:\n",
    "                    vmoves.append(\"arr\")\n",
    "    \n",
    "                for i in range(1, self.opponent[\"r\"] + 1):\n",
    "                    if self.opponent[\"l\"] + i < 5:\n",
    "                        vmoves.append(\"s\" + str(-i))\n",
    "\n",
    "            d = self.opponent[\"r\"] - self.opponent[\"l\"]\n",
    "            if d != 0:\n",
    "                vmoves.remove(\"s\" + str(-d))\n",
    "            \n",
    "        return vmoves"
   ]
  },
  {
   "cell_type": "code",
   "execution_count": 250,
   "metadata": {},
   "outputs": [],
   "source": [
    "\n",
    "class Agent():\n",
    "    def reset(self):\n",
    "        pass\n",
    "    def reward(self, value):\n",
    "        pass\n",
    "    \n",
    "class RandomAgent(Agent):\n",
    "    def __init__(self):\n",
    "        self.total_reward = 0\n",
    "    \n",
    "    def move(self, state):\n",
    "        return random.choice(state.get_valid_moves())\n",
    "    \n",
    "    def reward(self, value):\n",
    "        self.total_reward += value\n",
    "        return value\n",
    "\n",
    "class HumanAgent(Agent):\n",
    "    def __init__(self):\n",
    "        self.total_reward = 0\n",
    "    \n",
    "    def ask_turn(self, gs):\n",
    "        print(\"Enter your move: \", end = '')\n",
    "        res = input()\n",
    "        print(res)\n",
    "        if res == \"p\":\n",
    "            print(gs)\n",
    "            return self.ask_turn(gs)\n",
    "        if res == \"q\":\n",
    "            return False\n",
    "        \n",
    "        vmoves = gs.get_valid_moves()\n",
    "        if res == \"g\":\n",
    "            print(\"Valid Moves:\", vmoves)\n",
    "            return self.ask_turn(gs)\n",
    "        if res not in vmoves:\n",
    "            print(\"Invalid move!\")\n",
    "            return self.ask_turn(gs)\n",
    "        return res\n",
    "    \n",
    "    def move(self, state):\n",
    "        res = self.ask_turn(state)\n",
    "        if res:\n",
    "            return res\n",
    "        else:\n",
    "            print(\"Quitting game!\")\n",
    "            return False\n",
    "    \n",
    "    def reward(self, value):\n",
    "        self.total_reward += value\n",
    "        return value\n",
    "\n",
    "class SmartAgent(Agent):\n",
    "    def __init__(self):\n",
    "        self.total_reward = 0\n",
    "    \n",
    "    def move(self, state):\n",
    "        moves = state.get_valid_moves()\n",
    "        moves2 = moves.copy()\n",
    "        shiftmoves = [i for i in moves if i[0] == \"s\"]\n",
    "        \n",
    "        if state.turn == 0:\n",
    "            for h in [\"l\", \"r\"]:\n",
    "                for h2 in [\"l\", \"r\"]:\n",
    "                    if state.player[h] + state.opponent[h2] == 5:\n",
    "                        nonh = [\"l\", \"r\"]\n",
    "                        nonh.remove(h)\n",
    "                        nonh = nonh[0]\n",
    "                        if (state.player[h] + state.opponent[h] == 5) and (state.player[nonh] == 0):\n",
    "                            continue\n",
    "                        else:\n",
    "                            return \"a\" + h + h2\n",
    "                    \n",
    "            for sh in shiftmoves:\n",
    "                numsh = int(sh[1:])\n",
    "                \n",
    "                if numsh > 0:\n",
    "                    final_r = state.player[\"r\"] + numsh\n",
    "                    if (state.opponent[\"l\"] + final_r) % 5 == 0:\n",
    "                        moves2.remove(sh)\n",
    "                    elif (state.opponent[\"r\"] + final_r) % 5 == 0:\n",
    "                        moves2.remove(sh)\n",
    "                \n",
    "                if numsh < 0:\n",
    "                    final_l = state.player[\"l\"] - numsh\n",
    "                    if (state.opponent[\"l\"] + final_l) % 5 == 0:\n",
    "                        moves2.remove(sh)\n",
    "                    elif (state.opponent[\"r\"] + final_l) % 5 == 0:\n",
    "                        moves2.remove(sh)\n",
    "            \n",
    "            moves3 = moves2.copy()\n",
    "            \n",
    "            for h in [\"l\", \"r\"]:\n",
    "                for h2 in [\"l\", \"r\"]:\n",
    "                    if (2 * state.player[h] + state.opponent[h2]) % 5 == 0:\n",
    "                        if \"a\" + h + h2 in moves2:\n",
    "                            moves2.remove(\"a\" + h + h2)\n",
    "                if (state.player[\"r\"] + state.player[\"l\"] + state.opponent[h]) % 5 == 0:\n",
    "                    if \"al\" + h in moves2:\n",
    "                        moves2.remove(\"al\" + h)\n",
    "                    if \"ar\" + h in moves2:\n",
    "                        moves2.remove(\"ar\" + h)\n",
    "            \n",
    "            if len(moves2) == 0:\n",
    "                return random.choice(moves3)\n",
    "            \n",
    "            return random.choice(moves2)\n",
    "        \n",
    "        if state.turn == 1:\n",
    "            for h in [\"l\", \"r\"]:\n",
    "                for h2 in [\"l\", \"r\"]:\n",
    "                    if state.opponent[h] + state.player[h2] == 5:\n",
    "                        nonh = [\"l\", \"r\"]\n",
    "                        nonh.remove(h)\n",
    "                        nonh = nonh[0]\n",
    "                        if (state.opponent[h] + state.player[h] == 5) and (state.opponent[nonh] == 0):\n",
    "                            continue\n",
    "                        else:\n",
    "                            return \"a\" + h + h2\n",
    "                    \n",
    "            for sh in shiftmoves:\n",
    "                numsh = int(sh[1:])\n",
    "                \n",
    "                if numsh > 0:\n",
    "                    final_r = state.opponent[\"r\"] + numsh\n",
    "                    if (state.player[\"l\"] + final_r) % 5 == 0:\n",
    "                        moves2.remove(sh)\n",
    "                    elif (state.player[\"r\"] + final_r) % 5== 0:\n",
    "                        moves2.remove(sh)\n",
    "                \n",
    "                if numsh < 0:\n",
    "                    final_l = state.opponent[\"l\"] - numsh\n",
    "                    if (state.player[\"l\"] + final_l) % 5 == 0:\n",
    "                        moves2.remove(sh)\n",
    "                    elif (state.player[\"r\"] + final_l) % 5 == 0:\n",
    "                        moves2.remove(sh)\n",
    "            \n",
    "            moves3 = moves2.copy()\n",
    "            \n",
    "            for h in [\"l\", \"r\"]:\n",
    "                for h2 in [\"l\", \"r\"]:\n",
    "                    if (2 * state.opponent[h] + state.player[h2]) % 5 == 0:\n",
    "                        if \"a\" + h + h2 in moves2:\n",
    "                            moves2.remove(\"a\" + h + h2)\n",
    "                if (state.opponent[\"r\"] + state.opponent[\"l\"] + state.player[h]) % 5 == 0:\n",
    "                    if \"al\" + h in moves2:\n",
    "                        moves2.remove(\"al\" + h)\n",
    "                    if \"ar\" + h in moves2:\n",
    "                        moves2.remove(\"ar\" + h)\n",
    "            \n",
    "            if len(moves2) == 0:\n",
    "                return random.choice(moves3)\n",
    "            \n",
    "            return random.choice(moves2)\n",
    "    \n",
    "    def reward(self, value):\n",
    "        self.total_reward += value\n",
    "        return value"
   ]
  },
  {
   "cell_type": "code",
   "execution_count": 321,
   "metadata": {},
   "outputs": [],
   "source": [
    "def play_single_game(state, playerA, playerB, verbose = False):\n",
    "    playerA.reset()\n",
    "    playerB.reset()\n",
    "    if verbose > 0:\n",
    "        print(state)\n",
    "        \n",
    "    while not state.is_game_over():\n",
    "        move = playerA.move(state)\n",
    "        if verbose > 0:\n",
    "            print(\"*\" * 20)\n",
    "            print(\"Player A move:\", move)\n",
    "        state.play_turn(move)\n",
    "        if verbose > 0:\n",
    "            print(state)\n",
    "        \n",
    "        goc = state.is_game_over()\n",
    "        if goc != 0:\n",
    "            if goc == \"limit\":\n",
    "                playerA.reward(0)\n",
    "                playerB.reward(0)\n",
    "                break\n",
    "            playerA.reward(1)\n",
    "            playerB.reward(-1)\n",
    "            break\n",
    "        \n",
    "        move = playerB.move(state)\n",
    "        if verbose > 0:\n",
    "            print(\"*\" * 20)\n",
    "            print(\"Player B move:\", move)\n",
    "        state.play_turn(move)\n",
    "        if verbose > 0:\n",
    "            print(state)\n",
    "        \n",
    "        goc = state.is_game_over()\n",
    "        if goc != 0:\n",
    "            if goc == \"limit\":\n",
    "                playerA.reward(0)\n",
    "                playerB.reward(0)\n",
    "                break\n",
    "            playerA.reward(-1)\n",
    "            playerB.reward(1)\n",
    "            break\n",
    "        \n",
    "    if verbose < 0:\n",
    "        print(playerA.q_history[-1])\n",
    "    return goc"
   ]
  },
  {
   "cell_type": "code",
   "execution_count": 365,
   "metadata": {},
   "outputs": [],
   "source": [
    "def evaluateAgents(A, B, n = 1000, state = None, verbose = False):\n",
    "    if state is None:\n",
    "        state = GameState()\n",
    "    \n",
    "    Awin, Bwin, Draw = 0, 0, 0\n",
    "    for game_no in tqdm(range(n)):\n",
    "        winner = play_single_game(GameState(), A, B)\n",
    "        if winner == \"player\":\n",
    "            Awin += 1\n",
    "        elif winner == \"opponent\":\n",
    "            Bwin += 1\n",
    "        elif winner == \"limit\":\n",
    "            Draw += 1\n",
    "    \n",
    "    if verbose:\n",
    "        print(\"*\" * 45)\n",
    "        aw = round(Awin / n * 100, 2)\n",
    "        bw = round(Bwin / n * 100, 2)\n",
    "        dw = round(Draw / n * 100, 2)\n",
    "        \n",
    "        print(f\"* P1 Win: {aw}% | P2 Win: {bw}% | Draw: {dw}% *\" )\n",
    "        print(\"*\" * 45)\n",
    "    \n",
    "    return Awin / n, Bwin / n, Draw / n"
   ]
  },
  {
   "cell_type": "markdown",
   "metadata": {},
   "source": [
    "randA = RandomAgent()\n",
    "randB = RandomAgent()\n",
    "\n",
    "evaluateAgents(randA, randB, 10000, verbose=True)\n",
    "evaluateAgents(randB, randA, 10000, verbose=True)"
   ]
  },
  {
   "cell_type": "markdown",
   "metadata": {},
   "source": [
    "agentA = SmartAgent()\n",
    "randB = RandomAgent()\n",
    "\n",
    "evaluateAgents(agentA, randB, 10000, verbose=True)\n",
    "evaluateAgents(randB, agentA, 10000, verbose=True)\n"
   ]
  },
  {
   "cell_type": "markdown",
   "metadata": {},
   "source": [
    "agentA = SmartAgent()\n",
    "agentB = SmartAgent()\n",
    "\n",
    "evaluateAgents(agentA, agentB, 10000, verbose=True)\n",
    "evaluateAgents(agentB, agentA, 10000, verbose=True)\n"
   ]
  },
  {
   "cell_type": "markdown",
   "metadata": {},
   "source": [
    "agentA = SmartAgent()\n",
    "randB = HumanAgent()\n",
    "\n",
    "play_single_game(GameState(), randB, agentA, verbose=True)"
   ]
  },
  {
   "cell_type": "markdown",
   "metadata": {},
   "source": [
    "gs = GameState(2, 3, 2, 2)"
   ]
  },
  {
   "cell_type": "code",
   "execution_count": 349,
   "metadata": {},
   "outputs": [],
   "source": [
    "class RLAgent(Agent):\n",
    "    def __init__(self, training = True):\n",
    "        self.model = tf.keras.Sequential()\n",
    "        #self.model.add(tf.keras.layers.Dense(6))\n",
    "        self.model.add(tf.keras.layers.Dense(len(GameState.all_moves)))\n",
    "        self.model.compile(optimizer='sgd', loss='mean_squared_error')\n",
    "        self.training = training\n",
    "        self.last_move = None\n",
    "        self.gamehistory = []\n",
    "        self.q_history = []\n",
    "    \n",
    "    def predict_q(self, state):\n",
    "        return self.model.predict(np.array([state.get_state()]), verbose = 0)\n",
    "\n",
    "    def fit_q(self, raw_state, q_values):\n",
    "        self.model.fit(raw_state, q_values, verbose = 0)\n",
    "    \n",
    "    def reset(self):\n",
    "        self.last_move = None\n",
    "        self.gamehistory = []\n",
    "        self.q_history = []\n",
    "        \n",
    "    def move(self, state):\n",
    "        # always ask the agent to play the same side\n",
    "        q_values = self.predict_q(state)\n",
    "        temp_q = q_values.copy()\n",
    "        \n",
    "        invalid_move_idx = np.array(\n",
    "            [GameState.moves_dict[i] \n",
    "             for i in GameState.moves_dict \n",
    "             if i not in state.get_valid_moves()]\n",
    "        )\n",
    "        \n",
    "        temp_q[:, invalid_move_idx] = temp_q.min() - 1 # no illegal moves\n",
    "\n",
    "        move = GameState.all_moves[np.argmax(temp_q)]\n",
    "        value = temp_q.max()\n",
    "        \n",
    "        if self.training and self.last_move is not None:\n",
    "            self.reward(value)\n",
    "            \n",
    "        self.gamehistory.append(state.get_state().copy())\n",
    "        self.q_history.append(q_values) # Should probably be temp_q?\n",
    "        self.last_move = move\n",
    "        return move\n",
    "\n",
    "    \n",
    "    def reward(self, value):\n",
    "        if not self.training:\n",
    "            return\n",
    "        new_q = self.q_history[-1].copy()\n",
    "        new_q[:, GameState.moves_dict[self.last_move]] = value\n",
    "        self.fit_q(np.array([self.gamehistory[-1]]), new_q)"
   ]
  },
  {
   "cell_type": "code",
   "execution_count": 356,
   "metadata": {},
   "outputs": [],
   "source": [
    "playerA = RLAgent()\n",
    "playerB = RandomAgent()"
   ]
  },
  {
   "cell_type": "code",
   "execution_count": 364,
   "metadata": {},
   "outputs": [
    {
     "name": "stdout",
     "output_type": "stream",
     "text": [
      "*********************************************\n",
      "* P1 Win: 47.0% | P2 Win: 53.0% | Draw: 0.0% *\n",
      "*********************************************\n"
     ]
    },
    {
     "data": {
      "text/plain": [
       "(0.47, 0.53, 0.0)"
      ]
     },
     "execution_count": 364,
     "metadata": {},
     "output_type": "execute_result"
    }
   ],
   "source": [
    "playerA.training = False\n",
    "evaluateAgents(playerA, playerB, n = 100, verbose = True)"
   ]
  },
  {
   "cell_type": "code",
   "execution_count": 366,
   "metadata": {},
   "outputs": [
    {
     "name": "stderr",
     "output_type": "stream",
     "text": [
      "100%|██████████| 100/100 [00:00<00:00, 8132.12it/s]"
     ]
    },
    {
     "name": "stdout",
     "output_type": "stream",
     "text": [
      "*********************************************\n",
      "* P1 Win: 52.0% | P2 Win: 48.0% | Draw: 0.0% *\n",
      "*********************************************\n"
     ]
    },
    {
     "name": "stderr",
     "output_type": "stream",
     "text": [
      "\n"
     ]
    },
    {
     "data": {
      "text/plain": [
       "(0.52, 0.48, 0.0)"
      ]
     },
     "execution_count": 366,
     "metadata": {},
     "output_type": "execute_result"
    }
   ],
   "source": [
    "evaluateAgents(RandomAgent(), RandomAgent(), n = 100, verbose = True)"
   ]
  },
  {
   "cell_type": "code",
   "execution_count": 367,
   "metadata": {},
   "outputs": [
    {
     "name": "stderr",
     "output_type": "stream",
     "text": [
      "100%|██████████| 100/100 [02:20<00:00,  1.41s/it]\n"
     ]
    }
   ],
   "source": [
    "playerA.training = True\n",
    "for game_no in tqdm(range(100)):\n",
    "    gs = GameState()\n",
    "    play_single_game(gs, playerA, playerB)"
   ]
  },
  {
   "cell_type": "code",
   "execution_count": 368,
   "metadata": {},
   "outputs": [
    {
     "name": "stderr",
     "output_type": "stream",
     "text": [
      "100%|██████████| 100/100 [01:05<00:00,  1.53it/s]"
     ]
    },
    {
     "name": "stdout",
     "output_type": "stream",
     "text": [
      "*********************************************\n",
      "* P1 Win: 58.0% | P2 Win: 42.0% | Draw: 0.0% *\n",
      "*********************************************\n"
     ]
    },
    {
     "name": "stderr",
     "output_type": "stream",
     "text": [
      "\n"
     ]
    },
    {
     "data": {
      "text/plain": [
       "(0.58, 0.42, 0.0)"
      ]
     },
     "execution_count": 368,
     "metadata": {},
     "output_type": "execute_result"
    }
   ],
   "source": [
    "playerA.training = False\n",
    "evaluateAgents(playerA, playerB, n = 100, verbose = True)"
   ]
  },
  {
   "cell_type": "code",
   "execution_count": 370,
   "metadata": {},
   "outputs": [
    {
     "name": "stderr",
     "output_type": "stream",
     "text": [
      "100%|██████████| 100/100 [02:03<00:00,  1.23s/it]\n"
     ]
    }
   ],
   "source": [
    "playerA.training = True\n",
    "for game_no in tqdm(range(100)):\n",
    "    gs = GameState()\n",
    "    play_single_game(gs, playerA, playerB)"
   ]
  },
  {
   "cell_type": "code",
   "execution_count": 371,
   "metadata": {},
   "outputs": [
    {
     "name": "stderr",
     "output_type": "stream",
     "text": [
      "100%|██████████| 100/100 [00:55<00:00,  1.81it/s]"
     ]
    },
    {
     "name": "stdout",
     "output_type": "stream",
     "text": [
      "*********************************************\n",
      "* P1 Win: 69.0% | P2 Win: 31.0% | Draw: 0.0% *\n",
      "*********************************************\n"
     ]
    },
    {
     "name": "stderr",
     "output_type": "stream",
     "text": [
      "\n"
     ]
    },
    {
     "data": {
      "text/plain": [
       "(0.69, 0.31, 0.0)"
      ]
     },
     "execution_count": 371,
     "metadata": {},
     "output_type": "execute_result"
    }
   ],
   "source": [
    "playerA.training = False\n",
    "evaluateAgents(playerA, playerB, n = 100, verbose = True)"
   ]
  },
  {
   "cell_type": "code",
   "execution_count": 372,
   "metadata": {},
   "outputs": [
    {
     "name": "stderr",
     "output_type": "stream",
     "text": [
      "100%|██████████| 100/100 [02:19<00:00,  1.39s/it]\n"
     ]
    }
   ],
   "source": [
    "playerA.training = True\n",
    "for game_no in tqdm(range(100)):\n",
    "    gs = GameState()\n",
    "    play_single_game(gs, playerA, playerB)"
   ]
  },
  {
   "cell_type": "code",
   "execution_count": 373,
   "metadata": {},
   "outputs": [
    {
     "name": "stderr",
     "output_type": "stream",
     "text": [
      "100%|██████████| 100/100 [01:03<00:00,  1.57it/s]"
     ]
    },
    {
     "name": "stdout",
     "output_type": "stream",
     "text": [
      "*********************************************\n",
      "* P1 Win: 75.0% | P2 Win: 24.0% | Draw: 1.0% *\n",
      "*********************************************\n"
     ]
    },
    {
     "name": "stderr",
     "output_type": "stream",
     "text": [
      "\n"
     ]
    },
    {
     "data": {
      "text/plain": [
       "(0.75, 0.24, 0.01)"
      ]
     },
     "execution_count": 373,
     "metadata": {},
     "output_type": "execute_result"
    }
   ],
   "source": [
    "playerA.training = False\n",
    "evaluateAgents(playerA, playerB, n = 100, verbose = True)"
   ]
  },
  {
   "cell_type": "code",
   "execution_count": 374,
   "metadata": {},
   "outputs": [
    {
     "name": "stderr",
     "output_type": "stream",
     "text": [
      "100%|██████████| 100/100 [01:52<00:00,  1.12s/it]\n"
     ]
    }
   ],
   "source": [
    "playerA.training = True\n",
    "for game_no in tqdm(range(100)):\n",
    "    gs = GameState()\n",
    "    play_single_game(gs, playerA, playerB)"
   ]
  },
  {
   "cell_type": "code",
   "execution_count": 375,
   "metadata": {},
   "outputs": [
    {
     "name": "stderr",
     "output_type": "stream",
     "text": [
      "100%|██████████| 100/100 [01:05<00:00,  1.53it/s]"
     ]
    },
    {
     "name": "stdout",
     "output_type": "stream",
     "text": [
      "*********************************************\n",
      "* P1 Win: 76.0% | P2 Win: 23.0% | Draw: 1.0% *\n",
      "*********************************************\n"
     ]
    },
    {
     "name": "stderr",
     "output_type": "stream",
     "text": [
      "\n"
     ]
    },
    {
     "data": {
      "text/plain": [
       "(0.76, 0.23, 0.01)"
      ]
     },
     "execution_count": 375,
     "metadata": {},
     "output_type": "execute_result"
    }
   ],
   "source": [
    "playerA.training = False\n",
    "evaluateAgents(playerA, playerB, n = 100, verbose = True)"
   ]
  },
  {
   "cell_type": "code",
   "execution_count": 376,
   "metadata": {},
   "outputs": [
    {
     "name": "stderr",
     "output_type": "stream",
     "text": [
      "100%|██████████| 100/100 [02:04<00:00,  1.24s/it]\n"
     ]
    }
   ],
   "source": [
    "playerA.training = True\n",
    "for game_no in tqdm(range(100)):\n",
    "    gs = GameState()\n",
    "    play_single_game(gs, playerA, playerB)"
   ]
  },
  {
   "cell_type": "code",
   "execution_count": 377,
   "metadata": {},
   "outputs": [
    {
     "name": "stderr",
     "output_type": "stream",
     "text": [
      "100%|██████████| 100/100 [01:06<00:00,  1.51it/s]"
     ]
    },
    {
     "name": "stdout",
     "output_type": "stream",
     "text": [
      "*********************************************\n",
      "* P1 Win: 81.0% | P2 Win: 19.0% | Draw: 0.0% *\n",
      "*********************************************\n"
     ]
    },
    {
     "name": "stderr",
     "output_type": "stream",
     "text": [
      "\n"
     ]
    },
    {
     "data": {
      "text/plain": [
       "(0.81, 0.19, 0.0)"
      ]
     },
     "execution_count": 377,
     "metadata": {},
     "output_type": "execute_result"
    }
   ],
   "source": [
    "playerA.training = False\n",
    "evaluateAgents(playerA, playerB, n = 100, verbose = True)"
   ]
  },
  {
   "cell_type": "code",
   "execution_count": 378,
   "metadata": {},
   "outputs": [
    {
     "name": "stderr",
     "output_type": "stream",
     "text": [
      "100%|██████████| 100/100 [02:01<00:00,  1.21s/it]\n"
     ]
    }
   ],
   "source": [
    "playerA.training = True\n",
    "for game_no in tqdm(range(100)):\n",
    "    gs = GameState()\n",
    "    play_single_game(gs, playerA, playerB)"
   ]
  },
  {
   "cell_type": "code",
   "execution_count": 379,
   "metadata": {},
   "outputs": [
    {
     "name": "stderr",
     "output_type": "stream",
     "text": [
      "100%|██████████| 100/100 [00:59<00:00,  1.67it/s]"
     ]
    },
    {
     "name": "stdout",
     "output_type": "stream",
     "text": [
      "*********************************************\n",
      "* P1 Win: 87.0% | P2 Win: 12.0% | Draw: 1.0% *\n",
      "*********************************************\n"
     ]
    },
    {
     "name": "stderr",
     "output_type": "stream",
     "text": [
      "\n"
     ]
    },
    {
     "data": {
      "text/plain": [
       "(0.87, 0.12, 0.01)"
      ]
     },
     "execution_count": 379,
     "metadata": {},
     "output_type": "execute_result"
    }
   ],
   "source": [
    "playerA.training = False\n",
    "evaluateAgents(playerA, playerB, n = 100, verbose = True)"
   ]
  },
  {
   "cell_type": "code",
   "execution_count": 380,
   "metadata": {},
   "outputs": [
    {
     "name": "stderr",
     "output_type": "stream",
     "text": [
      "100%|██████████| 100/100 [01:55<00:00,  1.16s/it]\n"
     ]
    }
   ],
   "source": [
    "playerA.training = True\n",
    "for game_no in tqdm(range(100)):\n",
    "    gs = GameState()\n",
    "    play_single_game(gs, playerA, playerB)"
   ]
  },
  {
   "cell_type": "code",
   "execution_count": 381,
   "metadata": {},
   "outputs": [
    {
     "name": "stderr",
     "output_type": "stream",
     "text": [
      "100%|██████████| 100/100 [00:49<00:00,  2.02it/s]"
     ]
    },
    {
     "name": "stdout",
     "output_type": "stream",
     "text": [
      "*********************************************\n",
      "* P1 Win: 82.0% | P2 Win: 18.0% | Draw: 0.0% *\n",
      "*********************************************\n"
     ]
    },
    {
     "name": "stderr",
     "output_type": "stream",
     "text": [
      "\n"
     ]
    },
    {
     "data": {
      "text/plain": [
       "(0.82, 0.18, 0.0)"
      ]
     },
     "execution_count": 381,
     "metadata": {},
     "output_type": "execute_result"
    }
   ],
   "source": [
    "playerA.training = False\n",
    "evaluateAgents(playerA, playerB, n = 100, verbose = True)"
   ]
  },
  {
   "cell_type": "code",
   "execution_count": 383,
   "metadata": {},
   "outputs": [
    {
     "name": "stdout",
     "output_type": "stream",
     "text": [
      "Enter your move: p\n",
      "Player: 1 1 Opponent: 2 1\n",
      "Enter your move: arl\n",
      "Enter your move: p\n",
      "Player: 2 1 Opponent: 3 1\n",
      "Enter your move: all\n",
      "Enter your move: p\n",
      "Player: ~ 1 Opponent: 4 1\n",
      "Enter your move: alr\n"
     ]
    },
    {
     "data": {
      "text/plain": [
       "'opponent'"
      ]
     },
     "execution_count": 383,
     "metadata": {},
     "output_type": "execute_result"
    }
   ],
   "source": [
    "Chinni = HumanAgent()\n",
    "gs = GameState()\n",
    "play_single_game(gs, playerA, Chinni)"
   ]
  },
  {
   "cell_type": "code",
   "execution_count": 386,
   "metadata": {},
   "outputs": [],
   "source": [
    "playerA.model.save(\"RLAgentBestModel.keras\")"
   ]
  },
  {
   "cell_type": "code",
   "execution_count": 389,
   "metadata": {},
   "outputs": [],
   "source": [
    "playerRL = RLAgent()\n",
    "playerRL.model = keras.models.load_model(\"RLAgentBestModel.keras\")"
   ]
  },
  {
   "cell_type": "code",
   "execution_count": 390,
   "metadata": {},
   "outputs": [
    {
     "name": "stderr",
     "output_type": "stream",
     "text": [
      "100%|██████████| 100/100 [01:00<00:00,  1.66it/s]"
     ]
    },
    {
     "name": "stdout",
     "output_type": "stream",
     "text": [
      "*********************************************\n",
      "* P1 Win: 84.0% | P2 Win: 15.0% | Draw: 1.0% *\n",
      "*********************************************\n"
     ]
    },
    {
     "name": "stderr",
     "output_type": "stream",
     "text": [
      "\n"
     ]
    },
    {
     "data": {
      "text/plain": [
       "(0.84, 0.15, 0.01)"
      ]
     },
     "execution_count": 390,
     "metadata": {},
     "output_type": "execute_result"
    }
   ],
   "source": [
    "playerRL.training = False\n",
    "evaluateAgents(playerRL, playerB, n = 100, verbose = True)"
   ]
  },
  {
   "cell_type": "code",
   "execution_count": null,
   "metadata": {},
   "outputs": [],
   "source": []
  }
 ],
 "metadata": {
  "kernelspec": {
   "display_name": "RL",
   "language": "python",
   "name": "python3"
  },
  "language_info": {
   "codemirror_mode": {
    "name": "ipython",
    "version": 3
   },
   "file_extension": ".py",
   "mimetype": "text/x-python",
   "name": "python",
   "nbconvert_exporter": "python",
   "pygments_lexer": "ipython3",
   "version": "3.11.5"
  }
 },
 "nbformat": 4,
 "nbformat_minor": 2
}
