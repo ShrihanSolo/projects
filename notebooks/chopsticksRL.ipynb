{
 "cells": [
  {
   "cell_type": "code",
   "execution_count": 1,
   "metadata": {},
   "outputs": [],
   "source": [
    "import numpy as np\n",
    "import random"
   ]
  },
  {
   "cell_type": "code",
   "execution_count": 2,
   "metadata": {},
   "outputs": [],
   "source": [
    "class GameState():\n",
    "\n",
    "    def __init__(self, playerleft = 1, playerright = 1, oppleft = 1, oppright = 1, turn = 0):\n",
    "        self.player = {\"l\": playerleft, \"r\": playerright}\n",
    "        self.opponent = {\"l\": oppleft, \"r\": oppright}\n",
    "        self.turn = turn # 0 for player, 1 for opponent\n",
    "        self.turn_number = 0\n",
    "    \n",
    "    def __str__(self):\n",
    "        printleft = self.player[\"l\"]\n",
    "        printright = self.player[\"r\"]\n",
    "        printoppleft = self.opponent[\"l\"]\n",
    "        printoppright = self.opponent[\"r\"]\n",
    "        \n",
    "        \n",
    "        if printleft == 0:\n",
    "            printleft = \"~\"\n",
    "        \n",
    "        if printright == 0:\n",
    "            printright = \"~\"\n",
    "            \n",
    "        if printoppleft == 0:\n",
    "            printoppleft = \"~\"\n",
    "            \n",
    "        if printoppright == 0:\n",
    "            printoppright = \"~\"\n",
    "        \n",
    "        \n",
    "        return \"Player: \" + str(printleft) + \" \" + str(printright) + \" Opponent: \" + str(printoppleft) + \" \" + str(printoppright)\n",
    "    \n",
    "    def hand_order(self):\n",
    "        if self.player[\"l\"] > self.player[\"r\"]:\n",
    "            self.player[\"l\"], self.player[\"r\"] = self.player[\"r\"], self.player[\"l\"]\n",
    "        if self.opponent[\"l\"] > self.opponent[\"r\"]:\n",
    "            self.opponent[\"l\"], self.opponent[\"r\"] = self.opponent[\"r\"], self.opponent[\"l\"]\n",
    "    \n",
    "    def play_turn(self, string):\n",
    "        if string[0] == \"a\":\n",
    "            return self.play_attack_turn(string[1], string[2])\n",
    "        elif string[0] == \"s\":\n",
    "            return self.play_shift_turn(int(string[1:]))\n",
    "        elif string[0] == \"r\":\n",
    "            vmoves = self.get_valid_moves()\n",
    "            move = random.choice(vmoves)\n",
    "            print(\"Move:\", move)\n",
    "            return self.play_turn(move)\n",
    "    \n",
    "    def play_attack_turn(self, turnhand, receivehand):\n",
    "        \n",
    "        assert turnhand in [\"l\", \"r\"], \"Invalid hand\"\n",
    "        assert receivehand in [\"l\", \"r\"], \"Invalid hand\"\n",
    "        \n",
    "        \n",
    "        if self.turn == 0:\n",
    "            if self.player[turnhand] == 0:\n",
    "                print(\"Cannot attack with an empty hand!\")\n",
    "                return False\n",
    "\n",
    "            if self.opponent[receivehand] == 0:\n",
    "                print(\"Cannot hit an empty hand!\")\n",
    "                return False\n",
    "            \n",
    "            self.opponent[receivehand] = (self.player[turnhand] + self.opponent[receivehand]) % 5\n",
    "                    \n",
    "        elif self.turn == 1:\n",
    "            if self.opponent[turnhand] == 0:\n",
    "                print(\"Cannot attack with an empty hand!\")\n",
    "                return False\n",
    "\n",
    "            if self.player[receivehand] == 0:\n",
    "                print(\"Cannot hit an empty hand!\")\n",
    "                return False\n",
    "            \n",
    "            self.player[receivehand] = (self.player[receivehand] + self.opponent[turnhand]) % 5\n",
    "        \n",
    "        self.turn = 1 - self.turn\n",
    "        self.turn_number += 1\n",
    "        return True\n",
    "    \n",
    "    def play_shift_turn(self, torightcount):\n",
    "        \n",
    "        \n",
    "        if self.turn == 0: \n",
    "            tempr = self.player[\"r\"] + torightcount\n",
    "            templ = self.player[\"l\"] - torightcount\n",
    "            \n",
    "            if (tempr < 0) or (templ < 0) or (tempr >= 5) or (templ >= 5):\n",
    "                print(\"Invalid move!\")\n",
    "                return False\n",
    "            else:\n",
    "                self.player[\"r\"] = tempr\n",
    "                self.player[\"l\"] = templ\n",
    "            \n",
    "        elif self.turn == 1:\n",
    "            tempr = self.opponent[\"r\"] + torightcount\n",
    "            templ = self.opponent[\"l\"] - torightcount\n",
    "            \n",
    "            if (tempr < 0) or (templ < 0) or (tempr >= 5) or (templ >= 5):\n",
    "                print(\"Invalid move!\")\n",
    "                return False\n",
    "            else:\n",
    "                self.opponent[\"r\"] = tempr\n",
    "                self.opponent[\"l\"] = templ\n",
    "        \n",
    "        self.turn = 1 - self.turn\n",
    "        self.turn_number += 1\n",
    "        return True\n",
    "    \n",
    "    def is_game_over(self):\n",
    "        if self.player[\"l\"] == 0 and self.player[\"r\"] == 0:\n",
    "            return \"opponent\"\n",
    "        elif self.opponent[\"l\"] == 0 and self.opponent[\"r\"] == 0:\n",
    "            return \"player\"\n",
    "        elif self.turn_number >= 100:\n",
    "            return \"limit\"\n",
    "        else:\n",
    "            return 0\n",
    "    \n",
    "    def get_valid_moves(self):\n",
    "        \n",
    "        vmoves = []\n",
    "\n",
    "        if self.turn == 0:\n",
    "            \n",
    "            if self.player[\"l\"] != 0:\n",
    "                if self.opponent[\"l\"] != 0:\n",
    "                    vmoves.append(\"all\")\n",
    "                if self.opponent[\"r\"] != 0:\n",
    "                    vmoves.append(\"alr\")\n",
    "                \n",
    "                for i in np.arange(1, self.player[\"l\"] + 1):\n",
    "                    if self.player[\"r\"] + i < 5:\n",
    "                        vmoves.append(\"s\" + str(i))\n",
    "                \n",
    "            if self.player[\"r\"] != 0:\n",
    "                if self.opponent[\"l\"] != 0:\n",
    "                    vmoves.append(\"arl\")\n",
    "                if self.opponent[\"r\"] != 0:\n",
    "                    vmoves.append(\"arr\")\n",
    "    \n",
    "                for i in range(1, self.player[\"r\"] + 1):\n",
    "                    if self.player[\"l\"] + i < 5:\n",
    "                        vmoves.append(\"s\" + str(-i))\n",
    "            \n",
    "            d = self.player[\"r\"] - self.player[\"l\"]\n",
    "            if d != 0:\n",
    "                vmoves.remove(\"s\" + str(-d))\n",
    "            \n",
    "        elif self.turn == 1:\n",
    "            if self.opponent[\"l\"] != 0:\n",
    "                if self.player[\"l\"] != 0:\n",
    "                    vmoves.append(\"all\")\n",
    "                if self.player[\"r\"] != 0:\n",
    "                    vmoves.append(\"alr\")\n",
    "                \n",
    "                for i in np.arange(1, self.opponent[\"l\"] + 1):\n",
    "                    if self.opponent[\"r\"] + i < 5:\n",
    "                        vmoves.append(\"s\" + str(i))\n",
    "                \n",
    "            if self.opponent[\"r\"] != 0:\n",
    "                if self.player[\"l\"] != 0:\n",
    "                    vmoves.append(\"arl\")\n",
    "                if self.player[\"r\"] != 0:\n",
    "                    vmoves.append(\"arr\")\n",
    "    \n",
    "                for i in range(1, self.opponent[\"r\"] + 1):\n",
    "                    if self.opponent[\"l\"] + i < 5:\n",
    "                        vmoves.append(\"s\" + str(-i))\n",
    "\n",
    "            d = self.opponent[\"r\"] - self.opponent[\"l\"]\n",
    "            if d != 0:\n",
    "                vmoves.remove(\"s\" + str(-d))\n",
    "            \n",
    "        return vmoves"
   ]
  },
  {
   "cell_type": "code",
   "execution_count": 3,
   "metadata": {},
   "outputs": [],
   "source": [
    "\n",
    "class Agent():\n",
    "    def new_game(self):\n",
    "        pass\n",
    "    def reward(self, value):\n",
    "        pass\n",
    "    \n",
    "class RandomAgent(Agent):\n",
    "    def __init__(self):\n",
    "        self.total_reward = 0\n",
    "    \n",
    "    def move(self, state):\n",
    "        return random.choice(state.get_valid_moves())\n",
    "    \n",
    "    def reward(self, value):\n",
    "        self.total_reward += value\n",
    "        return value"
   ]
  },
  {
   "cell_type": "code",
   "execution_count": 4,
   "metadata": {},
   "outputs": [],
   "source": [
    "def play_single_game(state, playerA, playerB, verbose = False):\n",
    "    playerA.new_game()\n",
    "    playerB.new_game()\n",
    "    if verbose:\n",
    "        print(state)\n",
    "        \n",
    "    while not state.is_game_over():\n",
    "        move = playerA.move(state)\n",
    "        if verbose:\n",
    "            print(\"*\" * 20)\n",
    "            print(\"Player A move:\", move)\n",
    "        state.play_turn(move)\n",
    "        if verbose:\n",
    "            print(state)\n",
    "        \n",
    "        goc = state.is_game_over()\n",
    "        if goc != 0:\n",
    "            if goc == \"limit\":\n",
    "                playerA.reward(0)\n",
    "                playerB.reward(0)\n",
    "                break\n",
    "            playerA.reward(1)\n",
    "            playerB.reward(-1)\n",
    "            break\n",
    "        \n",
    "        move = playerB.move(state)\n",
    "        if verbose:\n",
    "            print(\"*\" * 20)\n",
    "            print(\"Player B move:\", move)\n",
    "        state.play_turn(move)\n",
    "        if verbose:\n",
    "            print(state)\n",
    "        \n",
    "        goc = state.is_game_over()\n",
    "        if goc != 0:\n",
    "            if goc == \"limit\":\n",
    "                playerA.reward(0)\n",
    "                playerB.reward(0)\n",
    "                break\n",
    "            playerA.reward(-1)\n",
    "            playerB.reward(1)\n",
    "            break\n",
    "    return goc"
   ]
  },
  {
   "cell_type": "code",
   "execution_count": 5,
   "metadata": {},
   "outputs": [],
   "source": [
    "def evaluateAgent(A, B, n = 1000, state = None):\n",
    "    if state is None:\n",
    "        state = GameState()\n",
    "    \n",
    "    Awin, Bwin, Draw = 0, 0, 0\n",
    "    for game_no in range(n):\n",
    "        winner = play_single_game(GameState(), randA, randB)\n",
    "        if winner == \"player\":\n",
    "            Awin += 1\n",
    "        elif winner == \"opponent\":\n",
    "            Bwin += 1\n",
    "        elif winner == \"limit\":\n",
    "            Draw += 1\n",
    "    \n",
    "    return Awin / n"
   ]
  },
  {
   "cell_type": "code",
   "execution_count": 134,
   "metadata": {},
   "outputs": [
    {
     "data": {
      "text/plain": [
       "'opponent'"
      ]
     },
     "execution_count": 134,
     "metadata": {},
     "output_type": "execute_result"
    }
   ],
   "source": [
    "randA = RandomAgent()\n",
    "randB = RandomAgent()\n",
    "\n",
    "play_single_game(GameState(), randA, randB)"
   ]
  },
  {
   "cell_type": "code",
   "execution_count": 129,
   "metadata": {},
   "outputs": [
    {
     "data": {
      "text/plain": [
       "(1, -1)"
      ]
     },
     "execution_count": 129,
     "metadata": {},
     "output_type": "execute_result"
    }
   ],
   "source": [
    "randA.total_reward, randB.total_reward"
   ]
  },
  {
   "cell_type": "code",
   "execution_count": 147,
   "metadata": {},
   "outputs": [
    {
     "name": "stdout",
     "output_type": "stream",
     "text": [
      "1.1627719402313232\n"
     ]
    }
   ],
   "source": [
    "randA = RandomAgent()\n",
    "randB = RandomAgent()\n",
    "\n",
    "import time\n",
    "\n",
    "Awin = 0\n",
    "Bwin = 0\n",
    "Draw = 0\n",
    "t1 = time.time()\n",
    "for i in range(10000):\n",
    "    winner = play_single_game(GameState(), randA, randB)\n",
    "    if winner == \"player\":\n",
    "        Awin += 1\n",
    "    elif winner == \"opponent\":\n",
    "        Bwin += 1\n",
    "    elif winner == \"limit\":\n",
    "        Draw += 1\n",
    "t2 = time.time()\n",
    "print(t2-t1)"
   ]
  },
  {
   "cell_type": "code",
   "execution_count": 148,
   "metadata": {},
   "outputs": [
    {
     "data": {
      "text/plain": [
       "-247"
      ]
     },
     "execution_count": 148,
     "metadata": {},
     "output_type": "execute_result"
    }
   ],
   "source": [
    "randA.total_reward"
   ]
  },
  {
   "cell_type": "code",
   "execution_count": 149,
   "metadata": {},
   "outputs": [
    {
     "data": {
      "text/plain": [
       "247"
      ]
     },
     "execution_count": 149,
     "metadata": {},
     "output_type": "execute_result"
    }
   ],
   "source": [
    "randB.total_reward"
   ]
  },
  {
   "cell_type": "code",
   "execution_count": 150,
   "metadata": {},
   "outputs": [
    {
     "data": {
      "text/plain": [
       "4865"
      ]
     },
     "execution_count": 150,
     "metadata": {},
     "output_type": "execute_result"
    }
   ],
   "source": [
    "Awin"
   ]
  },
  {
   "cell_type": "code",
   "execution_count": 151,
   "metadata": {},
   "outputs": [
    {
     "data": {
      "text/plain": [
       "5112"
      ]
     },
     "execution_count": 151,
     "metadata": {},
     "output_type": "execute_result"
    }
   ],
   "source": [
    "Bwin"
   ]
  },
  {
   "cell_type": "code",
   "execution_count": 152,
   "metadata": {},
   "outputs": [
    {
     "data": {
      "text/plain": [
       "23"
      ]
     },
     "execution_count": 152,
     "metadata": {},
     "output_type": "execute_result"
    }
   ],
   "source": [
    "Draw"
   ]
  },
  {
   "cell_type": "code",
   "execution_count": 53,
   "metadata": {},
   "outputs": [],
   "source": [
    "gstest = GameState(4, 3, 1, 4)"
   ]
  },
  {
   "cell_type": "code",
   "execution_count": 54,
   "metadata": {},
   "outputs": [
    {
     "data": {
      "text/plain": [
       "['all', 'alr', 's2', 's3', 's4', 'arl', 'arr', 's-1', 's-2', 's-3']"
      ]
     },
     "execution_count": 54,
     "metadata": {},
     "output_type": "execute_result"
    }
   ],
   "source": [
    "gstest.get_valid_moves()"
   ]
  },
  {
   "cell_type": "code",
   "execution_count": 55,
   "metadata": {},
   "outputs": [
    {
     "name": "stdout",
     "output_type": "stream",
     "text": [
      "Invalid move!\n"
     ]
    },
    {
     "data": {
      "text/plain": [
       "False"
      ]
     },
     "execution_count": 55,
     "metadata": {},
     "output_type": "execute_result"
    }
   ],
   "source": [
    "gstest.play_turn(\"s4\")"
   ]
  },
  {
   "cell_type": "code",
   "execution_count": null,
   "metadata": {},
   "outputs": [],
   "source": []
  }
 ],
 "metadata": {
  "kernelspec": {
   "display_name": "RL",
   "language": "python",
   "name": "python3"
  },
  "language_info": {
   "codemirror_mode": {
    "name": "ipython",
    "version": 3
   },
   "file_extension": ".py",
   "mimetype": "text/x-python",
   "name": "python",
   "nbconvert_exporter": "python",
   "pygments_lexer": "ipython3",
   "version": "3.11.4"
  }
 },
 "nbformat": 4,
 "nbformat_minor": 2
}
