{
 "cells": [
  {
   "cell_type": "code",
   "execution_count": 1,
   "id": "67496b33-420b-4bca-b92e-f04923067fd2",
   "metadata": {},
   "outputs": [],
   "source": [
    "import numpy as np"
   ]
  },
  {
   "cell_type": "code",
   "execution_count": 2,
   "id": "1b40fc3e-bd69-4da7-aec2-e15f8654d5da",
   "metadata": {},
   "outputs": [],
   "source": [
    "words = []\n",
    "\n",
    "content = open(r\"FreqDict.txt\").read()\n",
    "words.extend(content.split(\"\\n\"))\n",
    "\n",
    "nw = []\n",
    "for wd in words:\n",
    "    nw.append(wd.upper().split(\" \"))\n",
    "\n",
    "freq, wds = np.array(nw).T[:2]\n",
    "freq = np.int32(freq)\n",
    "idx = np.where(np.char.isalpha(wds))"
   ]
  },
  {
   "cell_type": "code",
   "execution_count": 3,
   "id": "1cc40709-9beb-4d9e-9924-6846331b8c4c",
   "metadata": {},
   "outputs": [
    {
     "data": {
      "text/plain": [
       "array([100106029,   6187267,   2941444, ...,         1,         1,\n",
       "               1], dtype=int32)"
      ]
     },
     "execution_count": 3,
     "metadata": {},
     "output_type": "execute_result"
    }
   ],
   "source": [
    "freq"
   ]
  },
  {
   "cell_type": "code",
   "execution_count": 4,
   "id": "542a20f0-49e6-4b88-be8f-a5407bd543b6",
   "metadata": {},
   "outputs": [
    {
     "data": {
      "text/plain": [
       "array(['!!WHOLE_CORPUS', 'THE', 'OF', ..., '%295', '%/100', '!*?*'],\n",
       "      dtype='<U140')"
      ]
     },
     "execution_count": 4,
     "metadata": {},
     "output_type": "execute_result"
    }
   ],
   "source": [
    "wds"
   ]
  },
  {
   "cell_type": "code",
   "execution_count": 5,
   "id": "d4f55a21-2863-4b10-80e1-1c6e966d4fc0",
   "metadata": {},
   "outputs": [],
   "source": [
    "fin_freq, fin_wds = freq[idx], wds[idx]"
   ]
  },
  {
   "cell_type": "code",
   "execution_count": 6,
   "id": "78b5eb5c-a142-4561-adae-f1ee59d76141",
   "metadata": {},
   "outputs": [
    {
     "data": {
      "text/plain": [
       "(array([     1,      2,      3, ..., 863520, 863521, 863522]),)"
      ]
     },
     "execution_count": 6,
     "metadata": {},
     "output_type": "execute_result"
    }
   ],
   "source": [
    "idx"
   ]
  },
  {
   "cell_type": "code",
   "execution_count": 7,
   "id": "93f37961-340d-4f4c-86a7-05153bcc898d",
   "metadata": {},
   "outputs": [
    {
     "data": {
      "text/plain": [
       "1"
      ]
     },
     "execution_count": 7,
     "metadata": {},
     "output_type": "execute_result"
    }
   ],
   "source": [
    "min(fin_freq)"
   ]
  },
  {
   "cell_type": "code",
   "execution_count": 8,
   "id": "3c3dba85-08d1-46ee-a9ea-f735be4f1963",
   "metadata": {},
   "outputs": [
    {
     "data": {
      "text/plain": [
       "True"
      ]
     },
     "execution_count": 8,
     "metadata": {},
     "output_type": "execute_result"
    }
   ],
   "source": [
    "'DUDE' in fin_wds"
   ]
  },
  {
   "cell_type": "code",
   "execution_count": 9,
   "id": "b5fef7e6-e1e6-45b9-8d49-6f4b7feb1f6b",
   "metadata": {},
   "outputs": [],
   "source": [
    "freqdict = {}\n",
    "for i in range(len(fin_wds)):\n",
    "    if fin_wds[i] in freqdict:\n",
    "        freqdict[fin_wds[i]] += fin_freq[i]\n",
    "    else:\n",
    "        freqdict[fin_wds[i]] = fin_freq[i]"
   ]
  },
  {
   "cell_type": "code",
   "execution_count": 10,
   "id": "528e13e7-d3e0-4880-bf74-af7a497118c0",
   "metadata": {},
   "outputs": [],
   "source": [
    "fin_wds = list(freqdict.keys())"
   ]
  },
  {
   "cell_type": "code",
   "execution_count": 11,
   "id": "38e51cb1-29c5-4869-9fd6-31a3600a9f05",
   "metadata": {},
   "outputs": [],
   "source": [
    "def letterguess(word_len, startlist, roundno, usedletters, verbose, rev_wds):\n",
    "    \n",
    "    def check_word(word):\n",
    "        for idx in range(len(word)):\n",
    "            if word[idx] in usedletters: # if letter is in used letters, then could be bad word, or already found good word\n",
    "                if word[idx] != startlist[idx]:\n",
    "                    return False\n",
    "            if startlist[idx] == \"*\":\n",
    "                continue\n",
    "            elif startlist[idx] != word[idx]:\n",
    "                return False\n",
    "        return True\n",
    "    \n",
    "    revised_words2 = [i for i in rev_wds if check_word(i)]\n",
    "    if verbose:\n",
    "        print(\"Some Possible Words:\")\n",
    "        print(revised_words2[:10])\n",
    "    alpha = np.array(list(\"abcdefghijklmnopqrstuvwxyz\".upper()))\n",
    "    \n",
    "    freq = {}\n",
    "    for wd in revised_words2:\n",
    "        for i in wd:\n",
    "            if i in freq:\n",
    "                freq[i] += (1 * freqdict[wd])\n",
    "            else:\n",
    "                freq[i] = (1 * freqdict[wd])\n",
    "    \n",
    "    for let in usedletters:\n",
    "        freq[let] = 0\n",
    "    \n",
    "    probs = []\n",
    "    for i in alpha:\n",
    "        try:\n",
    "            probs.append(freq[i])\n",
    "        except KeyError:\n",
    "            probs.append(0)\n",
    "    probs = np.array(probs)\n",
    "    probs = probs / np.sum(probs)\n",
    "    let = np.random.choice(alpha, p = probs)\n",
    "    \n",
    "    return let, rev_wds\n",
    "\n",
    "def guess(word, totattempts = 10, verbose = True):\n",
    "    if verbose:\n",
    "        print(\"Word to Guess:\", word)\n",
    "        print(\"Let the Game Begin!\")\n",
    "        print()\n",
    "    startlist = [\"*\" for i in range(len(word))]\n",
    "    wordlist = list(word.upper())\n",
    "    attempts = totattempts\n",
    "    usedletters = set()\n",
    "    roundno = 1\n",
    "    rev_wds = [wd for wd in fin_wds if len(wd) == len(wordlist)]\n",
    "    while attempts > 0:\n",
    "        if verbose:\n",
    "            print(\"Guess #\" + str(roundno), \"| Attempts:\", attempts)\n",
    "        letter, rev_wds = letterguess(len(word), startlist, roundno, usedletters, verbose, rev_wds)\n",
    "        letter = letter.upper()\n",
    "        if verbose:\n",
    "            print(\"Guess is:\", letter)\n",
    "            \n",
    "        if letter in usedletters:\n",
    "            raise Exception(\"Letter Already Used!\")\n",
    "        \n",
    "        usedletters.add(letter)\n",
    "        \n",
    "        if letter in wordlist:\n",
    "            for idx in range(len(wordlist)):\n",
    "                if wordlist[idx] == letter:\n",
    "                    startlist[idx] = letter\n",
    "            if verbose:\n",
    "                print(\"Correct Guess!\")\n",
    "        else:\n",
    "            if verbose:\n",
    "                print(\"Incorrect Guess!\")\n",
    "            attempts -= 1\n",
    "            \n",
    "        if verbose:\n",
    "            print()\n",
    "            print(\"Word:\", \"\".join(startlist))\n",
    "        roundno += 1\n",
    "        if startlist == wordlist:\n",
    "            if verbose:\n",
    "                print(\"You Won! You took\", totattempts - attempts, \"attempts.\")\n",
    "            return 1\n",
    "    if verbose:\n",
    "        print(\"You Lost! You ran out of attempts.\")\n",
    "    return 0"
   ]
  },
  {
   "cell_type": "code",
   "execution_count": 19,
   "id": "481ccf74-93ad-4597-85a6-eac01c4bf060",
   "metadata": {},
   "outputs": [
    {
     "name": "stdout",
     "output_type": "stream",
     "text": [
      "Word to Guess: fat\n",
      "Let the Game Begin!\n",
      "\n",
      "Guess #1 | Attempts: 10\n",
      "Some Possible Words:\n",
      "['THE', 'AND', 'WAS', 'FOR', 'YOU', 'ARE', 'NOT', 'BUT', 'HIS', 'HAD']\n",
      "Guess is: A\n",
      "Correct Guess!\n",
      "\n",
      "Word: *A*\n",
      "Guess #2 | Attempts: 10\n",
      "Some Possible Words:\n",
      "['WAS', 'HAD', 'HAS', 'CAN', 'MAY', 'WAY', 'DAY', 'MAN', 'SAY', 'WAR']\n",
      "Guess is: D\n",
      "Incorrect Guess!\n",
      "\n",
      "Word: *A*\n",
      "Guess #3 | Attempts: 9\n",
      "Some Possible Words:\n",
      "['WAS', 'HAS', 'CAN', 'MAY', 'WAY', 'MAN', 'SAY', 'WAR', 'CAR', 'SAW']\n",
      "Guess is: R\n",
      "Incorrect Guess!\n",
      "\n",
      "Word: *A*\n",
      "Guess #4 | Attempts: 8\n",
      "Some Possible Words:\n",
      "['WAS', 'HAS', 'CAN', 'MAY', 'WAY', 'MAN', 'SAY', 'SAW', 'LAW', 'TAX']\n",
      "Guess is: S\n",
      "Incorrect Guess!\n",
      "\n",
      "Word: *A*\n",
      "Guess #5 | Attempts: 7\n",
      "Some Possible Words:\n",
      "['CAN', 'MAY', 'WAY', 'MAN', 'LAW', 'TAX', 'PAY', 'LAY', 'IAN', 'EAT']\n",
      "Guess is: M\n",
      "Incorrect Guess!\n",
      "\n",
      "Word: *A*\n",
      "Guess #6 | Attempts: 6\n",
      "Some Possible Words:\n",
      "['CAN', 'WAY', 'LAW', 'TAX', 'PAY', 'LAY', 'IAN', 'EAT', 'BAG', 'CAT']\n",
      "Guess is: Y\n",
      "Incorrect Guess!\n",
      "\n",
      "Word: *A*\n",
      "Guess #7 | Attempts: 5\n",
      "Some Possible Words:\n",
      "['CAN', 'LAW', 'TAX', 'IAN', 'EAT', 'BAG', 'CAT', 'GAP', 'HAT', 'VAT']\n",
      "Guess is: C\n",
      "Incorrect Guess!\n",
      "\n",
      "Word: *A*\n",
      "Guess #8 | Attempts: 4\n",
      "Some Possible Words:\n",
      "['LAW', 'TAX', 'IAN', 'EAT', 'BAG', 'GAP', 'HAT', 'VAT', 'FAT', 'VAN']\n",
      "Guess is: X\n",
      "Incorrect Guess!\n",
      "\n",
      "Word: *A*\n",
      "Guess #9 | Attempts: 3\n",
      "Some Possible Words:\n",
      "['LAW', 'IAN', 'EAT', 'BAG', 'GAP', 'HAT', 'VAT', 'FAT', 'VAN', 'BAN']\n",
      "Guess is: W\n",
      "Incorrect Guess!\n",
      "\n",
      "Word: *A*\n",
      "Guess #10 | Attempts: 2\n",
      "Some Possible Words:\n",
      "['IAN', 'EAT', 'BAG', 'GAP', 'HAT', 'VAT', 'FAT', 'VAN', 'BAN', 'PAT']\n",
      "Guess is: T\n",
      "Correct Guess!\n",
      "\n",
      "Word: *AT\n",
      "Guess #11 | Attempts: 2\n",
      "Some Possible Words:\n",
      "['EAT', 'HAT', 'VAT', 'FAT', 'PAT', 'BAT', 'NAT', 'KAT', 'OAT', 'LAT']\n",
      "Guess is: E\n",
      "Incorrect Guess!\n",
      "\n",
      "Word: *AT\n",
      "Guess #12 | Attempts: 1\n",
      "Some Possible Words:\n",
      "['HAT', 'VAT', 'FAT', 'PAT', 'BAT', 'NAT', 'KAT', 'OAT', 'LAT', 'GAT']\n",
      "Guess is: B\n",
      "Incorrect Guess!\n",
      "\n",
      "Word: *AT\n",
      "You Lost! You ran out of attempts.\n"
     ]
    },
    {
     "data": {
      "text/plain": [
       "0"
      ]
     },
     "execution_count": 19,
     "metadata": {},
     "output_type": "execute_result"
    }
   ],
   "source": [
    "guess(\"fat\")"
   ]
  },
  {
   "cell_type": "code",
   "execution_count": 41,
   "id": "514a141e-38cf-4afd-8146-decbfe840838",
   "metadata": {},
   "outputs": [
    {
     "name": "stdout",
     "output_type": "stream",
     "text": [
      "54%\n"
     ]
    }
   ],
   "source": [
    "winrate = 0\n",
    "for i in range(100):\n",
    "    winrate += guess(\"sky\", verbose = False)\n",
    "print(str(winrate) + \"%\")"
   ]
  },
  {
   "cell_type": "code",
   "execution_count": null,
   "id": "54f54c70-6378-4a5a-a522-11c35fd302ff",
   "metadata": {},
   "outputs": [],
   "source": []
  },
  {
   "cell_type": "code",
   "execution_count": 109,
   "id": "e229c1c4-41de-4e1c-8d78-8300d46d39b5",
   "metadata": {},
   "outputs": [],
   "source": [
    " alpha = np.array(list(\"eariotnslcudpmhgbfywkvxzjq\".upper()))"
   ]
  },
  {
   "cell_type": "code",
   "execution_count": 110,
   "id": "4544c73b-0b2f-4b31-b468-c22ca593a951",
   "metadata": {},
   "outputs": [
    {
     "data": {
      "text/plain": [
       "array(['E', 'A', 'R', 'I', 'O', 'T', 'N', 'S', 'L', 'C', 'U', 'D', 'P',\n",
       "       'M', 'H', 'G', 'B', 'F', 'Y', 'W', 'K', 'V', 'X', 'Z', 'J', 'Q'],\n",
       "      dtype='<U1')"
      ]
     },
     "execution_count": 110,
     "metadata": {},
     "output_type": "execute_result"
    }
   ],
   "source": [
    "alpha"
   ]
  },
  {
   "cell_type": "code",
   "execution_count": 68,
   "id": "43ea2e1c-d4c2-4871-b644-172743a1cb3a",
   "metadata": {},
   "outputs": [],
   "source": [
    "def check_word(word):\n",
    "        for idx in range(len(word)):\n",
    "            if word[idx] in {'I'}:\n",
    "                return False\n",
    "            if startlist[idx] == \"*\":\n",
    "                continue\n",
    "            if startlist[idx] != word[idx]:\n",
    "                return False\n",
    "        return True"
   ]
  },
  {
   "cell_type": "code",
   "execution_count": 69,
   "id": "24385053-0401-45d1-baa8-860ff427b100",
   "metadata": {},
   "outputs": [],
   "source": [
    "w = \"AALII\"\n",
    "startlist = list(\"*****\")"
   ]
  },
  {
   "cell_type": "code",
   "execution_count": 70,
   "id": "486f5a85-fd55-4335-a53e-fc4031487fa9",
   "metadata": {},
   "outputs": [
    {
     "data": {
      "text/plain": [
       "False"
      ]
     },
     "execution_count": 70,
     "metadata": {},
     "output_type": "execute_result"
    }
   ],
   "source": [
    "check_word(w)"
   ]
  },
  {
   "cell_type": "code",
   "execution_count": null,
   "id": "ae6d7e28-db4c-4033-a164-3f230c4b4666",
   "metadata": {},
   "outputs": [],
   "source": []
  },
  {
   "cell_type": "code",
   "execution_count": null,
   "id": "e898da1b-db3e-4871-9aa6-27a42e2b3081",
   "metadata": {},
   "outputs": [],
   "source": []
  }
 ],
 "metadata": {
  "kernelspec": {
   "display_name": "Python 3 (ipykernel)",
   "language": "python",
   "name": "python3"
  },
  "language_info": {
   "codemirror_mode": {
    "name": "ipython",
    "version": 3
   },
   "file_extension": ".py",
   "mimetype": "text/x-python",
   "name": "python",
   "nbconvert_exporter": "python",
   "pygments_lexer": "ipython3",
   "version": "3.7.11"
  }
 },
 "nbformat": 4,
 "nbformat_minor": 5
}
