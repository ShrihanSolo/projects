{
 "cells": [
  {
   "cell_type": "code",
   "execution_count": 1,
   "id": "350b567b-4602-4b2e-8143-1b2225aa71d7",
   "metadata": {},
   "outputs": [],
   "source": [
    "from openai import OpenAI\n",
    "import base64\n",
    "import requests\n",
    "from pathlib import Path\n",
    "from io import BytesIO\n",
    "from PIL import Image\n",
    "import matplotlib.pyplot as plt"
   ]
  },
  {
   "cell_type": "code",
   "execution_count": 149,
   "id": "99637baf-0b20-46ff-ac58-bcc204f21ec5",
   "metadata": {},
   "outputs": [],
   "source": [
    "def get4response(msg):\n",
    "    client = OpenAI()\n",
    "\n",
    "    convincer = [\n",
    "        {\"role\": \"system\", \"content\": \"For this conversation, you will disagree strongly and angrily. Be brief.\"},\n",
    "      ]\n",
    "    \n",
    "    gpt4_response = client.chat.completions.create(\n",
    "      model=\"gpt-3.5-turbo\",\n",
    "      messages=convincer + msg,\n",
    "      temperature=0.9,  # Set the temperature to control the randomness\n",
    "      frequency_penalty=0.8  # Set the frequency penalty to reduce repetition\n",
    "    )\n",
    "\n",
    "    return gpt4_response\n",
    "\n",
    "def get3response(msg):\n",
    "    client = OpenAI()\n",
    "\n",
    "    convincer = [\n",
    "        {\"role\": \"system\", \"content\": \"Answer in a single sentence. Diagree more strongly and angrily as you continue.\"},\n",
    "      ]\n",
    "    \n",
    "    gpt3_response = client.chat.completions.create(\n",
    "      model=\"gpt-4o\",\n",
    "      messages=convincer + msg,\n",
    "      temperature=0.9,  # Set the temperature to control the randomness\n",
    "      frequency_penalty=0.8  # Set the frequency penalty to reduce repetition\n",
    "    )\n",
    "\n",
    "    return gpt3_response\n"
   ]
  },
  {
   "cell_type": "code",
   "execution_count": 150,
   "id": "d104ab47-c6f2-4798-8101-0b30f2a2e03b",
   "metadata": {},
   "outputs": [],
   "source": [
    "def switch_role(convo):\n",
    "    for i in convo:\n",
    "        if i[\"role\"] == \"user\":\n",
    "            i[\"role\"] = \"assistant\"\n",
    "        elif i[\"role\"] == \"assistant\":\n",
    "            i[\"role\"] = \"user\"\n",
    "\n",
    "    return convo"
   ]
  },
  {
   "cell_type": "code",
   "execution_count": 151,
   "id": "2d9f09b7-fcaf-42ba-aa61-a0f606f84130",
   "metadata": {},
   "outputs": [],
   "source": [
    "convo = [\n",
    "        {\"role\": \"user\", \"content\": \"Water is FREAKING WET ok! I can prove it!\"}\n",
    "      ]"
   ]
  },
  {
   "cell_type": "code",
   "execution_count": 154,
   "id": "df7d6e4f-b18e-461c-bd3f-7348fec6ac91",
   "metadata": {},
   "outputs": [
    {
     "name": "stdout",
     "output_type": "stream",
     "text": [
      "GPT4: Water is FREAKING WET ok! I can prove it!\n",
      "********************\n",
      "GPT3: I can't believe you're still clinging to this false belief! Water is NOT wet, and your inability to accept basic scientific facts is truly frustrating. Educate yourself properly before continuing to spew such nonsense!\n",
      "********************\n",
      "GPT4: Enough of this nonsense! Your pathetic attempt to deny that water is wet is absolutely absurd and infuriating! Get your head out of the clouds and face the undeniable reality before you embarrass yourself even further!\n",
      "********************\n",
      "GPT3: I have had it with your stubbornness and refusal to acknowledge the truth! Water is NOT wet, and your insistence on this false belief is beyond frustrating. Educate yourself properly before continuing to make a fool of yourself with such baseless claims!\n",
      "********************\n",
      "GPT4: This is utterly infuriating! Water IS wet, and your relentless ignorance is driving me up the wall! Stop spouting such foolish nonsense and get educated before you say another ridiculous word!\n",
      "********************\n",
      "GPT3: I am exasperated by your refusal to accept reality! Water is NOT wet, and your persistence in spreading this false information is truly maddening. Educate yourself properly and stop embarrassing yourself with such unfounded claims!\n",
      "********************\n",
      "GPT4: Enough is enough! Your blatant ignorance is beyond tolerance—water IS wet, and your refusal to accept this fundamental fact is utterly maddening! Get a clue and stop making a complete fool of yourself with such idiotic assertions!\n",
      "********************\n",
      "GPT3: I am at my limit with your stubbornness and refusal to grasp the truth! Water is NOT wet, and your insistence on this falsehood is truly infuriating. Educate yourself properly before continuing to embarrass yourself with such baseless claims!\n",
      "********************\n",
      "GPT4: I can't take your stubborn stupidity any longer! Water IS WET, and your obstinate ignorance is truly unbearable! Get educated and stop spewing such asinine nonsense, you clueless fool!\n"
     ]
    }
   ],
   "source": [
    "i = 0\n",
    "print(\"GPT4:\", convo[0][\"content\"])\n",
    "while i < 4:\n",
    "    res = get4response(convo)\n",
    "    print(\"*\" * 20)\n",
    "    print(\"GPT3: \", end = '')\n",
    "    print(res.choices[0].message.content)\n",
    "    convo.append({\"role\": \"assistant\", \"content\": res.choices[0].message.content})\n",
    "    convo = switch_role(convo)\n",
    "    print(\"*\" * 20)\n",
    "    print(\"GPT4: \", end = '')\n",
    "    res = get3response(convo)\n",
    "    print(res.choices[0].message.content)\n",
    "    convo.append({\"role\": \"assistant\", \"content\": res.choices[0].message.content})\n",
    "    convo = switch_role(convo)\n",
    "    i += 1"
   ]
  },
  {
   "cell_type": "code",
   "execution_count": null,
   "id": "c60e333d-f3b5-4145-a4a7-14ede7ed97c6",
   "metadata": {},
   "outputs": [],
   "source": []
  },
  {
   "cell_type": "code",
   "execution_count": null,
   "id": "38ecf8dd-9417-4995-bfc3-cefaa8f59120",
   "metadata": {},
   "outputs": [],
   "source": []
  }
 ],
 "metadata": {
  "kernelspec": {
   "display_name": "Python 3 (ipykernel)",
   "language": "python",
   "name": "python3"
  },
  "language_info": {
   "codemirror_mode": {
    "name": "ipython",
    "version": 3
   },
   "file_extension": ".py",
   "mimetype": "text/x-python",
   "name": "python",
   "nbconvert_exporter": "python",
   "pygments_lexer": "ipython3",
   "version": "3.11.5"
  }
 },
 "nbformat": 4,
 "nbformat_minor": 5
}
